{
 "cells": [
  {
   "cell_type": "code",
   "execution_count": 32,
   "id": "92bc781e-1f63-4089-90c8-8a860bb6c161",
   "metadata": {
    "execution": {
     "iopub.execute_input": "2024-09-04T17:25:15.195645Z",
     "iopub.status.busy": "2024-09-04T17:25:15.194640Z",
     "iopub.status.idle": "2024-09-04T17:25:15.203730Z",
     "shell.execute_reply": "2024-09-04T17:25:15.201716Z",
     "shell.execute_reply.started": "2024-09-04T17:25:15.195645Z"
    }
   },
   "outputs": [],
   "source": [
    "import numpy as np\n",
    "import pandas as pd"
   ]
  },
  {
   "cell_type": "code",
   "execution_count": 33,
   "id": "71632561-b08c-449c-b2c2-7fd158e6a837",
   "metadata": {
    "execution": {
     "iopub.execute_input": "2024-09-04T17:25:15.610456Z",
     "iopub.status.busy": "2024-09-04T17:25:15.608455Z",
     "iopub.status.idle": "2024-09-04T17:25:15.777491Z",
     "shell.execute_reply": "2024-09-04T17:25:15.776480Z",
     "shell.execute_reply.started": "2024-09-04T17:25:15.610456Z"
    }
   },
   "outputs": [],
   "source": [
    "df = pd.read_csv(\"BA-Final-Data-Skytrax.csv\")\n",
    "check = df"
   ]
  },
  {
   "cell_type": "code",
   "execution_count": 3,
   "id": "ec329599-23b9-471c-8a9c-af032541e806",
   "metadata": {
    "execution": {
     "iopub.execute_input": "2024-09-04T17:08:40.445346Z",
     "iopub.status.busy": "2024-09-04T17:08:40.441343Z",
     "iopub.status.idle": "2024-09-04T17:08:40.498818Z",
     "shell.execute_reply": "2024-09-04T17:08:40.497807Z",
     "shell.execute_reply.started": "2024-09-04T17:08:40.445346Z"
    }
   },
   "outputs": [
    {
     "data": {
      "text/html": [
       "<div>\n",
       "<style scoped>\n",
       "    .dataframe tbody tr th:only-of-type {\n",
       "        vertical-align: middle;\n",
       "    }\n",
       "\n",
       "    .dataframe tbody tr th {\n",
       "        vertical-align: top;\n",
       "    }\n",
       "\n",
       "    .dataframe thead th {\n",
       "        text-align: right;\n",
       "    }\n",
       "</style>\n",
       "<table border=\"1\" class=\"dataframe\">\n",
       "  <thead>\n",
       "    <tr style=\"text-align: right;\">\n",
       "      <th></th>\n",
       "      <th>Unnamed: 0</th>\n",
       "      <th>reviewer_detail</th>\n",
       "      <th>reviews</th>\n",
       "      <th>Food &amp; Beverages</th>\n",
       "      <th>Inflight Entertainment</th>\n",
       "      <th>Seat Comfort</th>\n",
       "      <th>Staff Service</th>\n",
       "      <th>Value for Money</th>\n",
       "      <th>Type Of Traveller</th>\n",
       "      <th>Seat Type</th>\n",
       "      <th>Route</th>\n",
       "      <th>Date Flown</th>\n",
       "      <th>Cabin Staff Service</th>\n",
       "      <th>Ground Service</th>\n",
       "      <th>Wifi &amp; Connectivity</th>\n",
       "      <th>Value For Money</th>\n",
       "      <th>Recommended</th>\n",
       "      <th>Aircraft</th>\n",
       "    </tr>\n",
       "  </thead>\n",
       "  <tbody>\n",
       "    <tr>\n",
       "      <th>0</th>\n",
       "      <td>0</td>\n",
       "      <td>Amanda Edgar(United Kingdom)2nd September 2024</td>\n",
       "      <td>✅Trip Verified| As someone who flies relentles...</td>\n",
       "      <td>1.0</td>\n",
       "      <td>1.0</td>\n",
       "      <td>2.0</td>\n",
       "      <td>NaN</td>\n",
       "      <td>NaN</td>\n",
       "      <td>Couple Leisure</td>\n",
       "      <td>Business Class</td>\n",
       "      <td>London to Crete</td>\n",
       "      <td>September 2024</td>\n",
       "      <td>1.0</td>\n",
       "      <td>2.0</td>\n",
       "      <td>3.0</td>\n",
       "      <td>2.0</td>\n",
       "      <td>no</td>\n",
       "      <td>NaN</td>\n",
       "    </tr>\n",
       "    <tr>\n",
       "      <th>1</th>\n",
       "      <td>1</td>\n",
       "      <td>S Morton(United Kingdom)1st September 2024</td>\n",
       "      <td>✅Trip Verified|   Flew with British Airways cl...</td>\n",
       "      <td>3.0</td>\n",
       "      <td>NaN</td>\n",
       "      <td>3.0</td>\n",
       "      <td>NaN</td>\n",
       "      <td>NaN</td>\n",
       "      <td>Business</td>\n",
       "      <td>Business Class</td>\n",
       "      <td>Berlin to London</td>\n",
       "      <td>August 2024</td>\n",
       "      <td>1.0</td>\n",
       "      <td>1.0</td>\n",
       "      <td>NaN</td>\n",
       "      <td>1.0</td>\n",
       "      <td>no</td>\n",
       "      <td>A319</td>\n",
       "    </tr>\n",
       "    <tr>\n",
       "      <th>2</th>\n",
       "      <td>2</td>\n",
       "      <td>E Smyth(United Kingdom)30th August 2024</td>\n",
       "      <td>✅Trip Verified|   Straightforward check in T5....</td>\n",
       "      <td>4.0</td>\n",
       "      <td>5.0</td>\n",
       "      <td>4.0</td>\n",
       "      <td>NaN</td>\n",
       "      <td>NaN</td>\n",
       "      <td>Family Leisure</td>\n",
       "      <td>Business Class</td>\n",
       "      <td>London to Toronto</td>\n",
       "      <td>August 2024</td>\n",
       "      <td>4.0</td>\n",
       "      <td>4.0</td>\n",
       "      <td>5.0</td>\n",
       "      <td>4.0</td>\n",
       "      <td>yes</td>\n",
       "      <td>Boeing 777-200</td>\n",
       "    </tr>\n",
       "    <tr>\n",
       "      <th>3</th>\n",
       "      <td>3</td>\n",
       "      <td>Lauren Boniface(United Kingdom)28th August 2024</td>\n",
       "      <td>Not Verified| I am beyond upset and disgusted ...</td>\n",
       "      <td>NaN</td>\n",
       "      <td>NaN</td>\n",
       "      <td>1.0</td>\n",
       "      <td>NaN</td>\n",
       "      <td>NaN</td>\n",
       "      <td>Solo Leisure</td>\n",
       "      <td>Economy Class</td>\n",
       "      <td>London to Denver</td>\n",
       "      <td>August 2024</td>\n",
       "      <td>1.0</td>\n",
       "      <td>1.0</td>\n",
       "      <td>NaN</td>\n",
       "      <td>1.0</td>\n",
       "      <td>no</td>\n",
       "      <td>NaN</td>\n",
       "    </tr>\n",
       "    <tr>\n",
       "      <th>4</th>\n",
       "      <td>4</td>\n",
       "      <td>Il Yong Jung(Hong Kong)28th August 2024</td>\n",
       "      <td>✅Trip Verified|   I purchased round trip direc...</td>\n",
       "      <td>3.0</td>\n",
       "      <td>4.0</td>\n",
       "      <td>4.0</td>\n",
       "      <td>NaN</td>\n",
       "      <td>NaN</td>\n",
       "      <td>Family Leisure</td>\n",
       "      <td>Business Class</td>\n",
       "      <td>London to Hong Kong via Doha</td>\n",
       "      <td>July 2024</td>\n",
       "      <td>1.0</td>\n",
       "      <td>1.0</td>\n",
       "      <td>4.0</td>\n",
       "      <td>1.0</td>\n",
       "      <td>no</td>\n",
       "      <td>NaN</td>\n",
       "    </tr>\n",
       "  </tbody>\n",
       "</table>\n",
       "</div>"
      ],
      "text/plain": [
       "   Unnamed: 0                                  reviewer_detail  \\\n",
       "0           0   Amanda Edgar(United Kingdom)2nd September 2024   \n",
       "1           1       S Morton(United Kingdom)1st September 2024   \n",
       "2           2          E Smyth(United Kingdom)30th August 2024   \n",
       "3           3  Lauren Boniface(United Kingdom)28th August 2024   \n",
       "4           4          Il Yong Jung(Hong Kong)28th August 2024   \n",
       "\n",
       "                                             reviews  Food & Beverages  \\\n",
       "0  ✅Trip Verified| As someone who flies relentles...               1.0   \n",
       "1  ✅Trip Verified|   Flew with British Airways cl...               3.0   \n",
       "2  ✅Trip Verified|   Straightforward check in T5....               4.0   \n",
       "3  Not Verified| I am beyond upset and disgusted ...               NaN   \n",
       "4  ✅Trip Verified|   I purchased round trip direc...               3.0   \n",
       "\n",
       "   Inflight Entertainment  Seat Comfort  Staff Service  Value for Money  \\\n",
       "0                     1.0           2.0            NaN              NaN   \n",
       "1                     NaN           3.0            NaN              NaN   \n",
       "2                     5.0           4.0            NaN              NaN   \n",
       "3                     NaN           1.0            NaN              NaN   \n",
       "4                     4.0           4.0            NaN              NaN   \n",
       "\n",
       "  Type Of Traveller       Seat Type                         Route  \\\n",
       "0    Couple Leisure  Business Class               London to Crete   \n",
       "1          Business  Business Class              Berlin to London   \n",
       "2    Family Leisure  Business Class             London to Toronto   \n",
       "3      Solo Leisure   Economy Class              London to Denver   \n",
       "4    Family Leisure  Business Class  London to Hong Kong via Doha   \n",
       "\n",
       "       Date Flown  Cabin Staff Service  Ground Service  Wifi & Connectivity  \\\n",
       "0  September 2024                  1.0             2.0                  3.0   \n",
       "1     August 2024                  1.0             1.0                  NaN   \n",
       "2     August 2024                  4.0             4.0                  5.0   \n",
       "3     August 2024                  1.0             1.0                  NaN   \n",
       "4       July 2024                  1.0             1.0                  4.0   \n",
       "\n",
       "   Value For Money Recommended        Aircraft  \n",
       "0              2.0          no             NaN  \n",
       "1              1.0          no            A319  \n",
       "2              4.0         yes  Boeing 777-200  \n",
       "3              1.0          no             NaN  \n",
       "4              1.0          no             NaN  "
      ]
     },
     "execution_count": 3,
     "metadata": {},
     "output_type": "execute_result"
    }
   ],
   "source": [
    "df.head()"
   ]
  },
  {
   "cell_type": "code",
   "execution_count": 4,
   "id": "d2684ee1-e4a1-44e5-a3c6-bc6d17ee930f",
   "metadata": {
    "execution": {
     "iopub.execute_input": "2024-09-04T17:08:40.510823Z",
     "iopub.status.busy": "2024-09-04T17:08:40.507820Z",
     "iopub.status.idle": "2024-09-04T17:08:40.544903Z",
     "shell.execute_reply": "2024-09-04T17:08:40.543893Z",
     "shell.execute_reply.started": "2024-09-04T17:08:40.509820Z"
    }
   },
   "outputs": [
    {
     "data": {
      "text/html": [
       "<div>\n",
       "<style scoped>\n",
       "    .dataframe tbody tr th:only-of-type {\n",
       "        vertical-align: middle;\n",
       "    }\n",
       "\n",
       "    .dataframe tbody tr th {\n",
       "        vertical-align: top;\n",
       "    }\n",
       "\n",
       "    .dataframe thead th {\n",
       "        text-align: right;\n",
       "    }\n",
       "</style>\n",
       "<table border=\"1\" class=\"dataframe\">\n",
       "  <thead>\n",
       "    <tr style=\"text-align: right;\">\n",
       "      <th></th>\n",
       "      <th>reviewer_detail</th>\n",
       "      <th>reviews</th>\n",
       "      <th>Food &amp; Beverages</th>\n",
       "      <th>Inflight Entertainment</th>\n",
       "      <th>Seat Comfort</th>\n",
       "      <th>Staff Service</th>\n",
       "      <th>Value for Money</th>\n",
       "      <th>Type Of Traveller</th>\n",
       "      <th>Seat Type</th>\n",
       "      <th>Route</th>\n",
       "      <th>Date Flown</th>\n",
       "      <th>Cabin Staff Service</th>\n",
       "      <th>Ground Service</th>\n",
       "      <th>Wifi &amp; Connectivity</th>\n",
       "      <th>Value For Money</th>\n",
       "      <th>Recommended</th>\n",
       "      <th>Aircraft</th>\n",
       "    </tr>\n",
       "  </thead>\n",
       "  <tbody>\n",
       "    <tr>\n",
       "      <th>404</th>\n",
       "      <td>G Jackson(United States)2nd January 2023</td>\n",
       "      <td>✅Trip Verified| Probably the worst business cl...</td>\n",
       "      <td>1.0</td>\n",
       "      <td>1.0</td>\n",
       "      <td>1.0</td>\n",
       "      <td>NaN</td>\n",
       "      <td>NaN</td>\n",
       "      <td>Family Leisure</td>\n",
       "      <td>Business Class</td>\n",
       "      <td>Vienna to Los Angeles via London Heathrow</td>\n",
       "      <td>January 2023</td>\n",
       "      <td>2.0</td>\n",
       "      <td>1.0</td>\n",
       "      <td>1.0</td>\n",
       "      <td>1.0</td>\n",
       "      <td>no</td>\n",
       "      <td>A320, A380</td>\n",
       "    </tr>\n",
       "  </tbody>\n",
       "</table>\n",
       "</div>"
      ],
      "text/plain": [
       "                              reviewer_detail  \\\n",
       "404  G Jackson(United States)2nd January 2023   \n",
       "\n",
       "                                               reviews  Food & Beverages  \\\n",
       "404  ✅Trip Verified| Probably the worst business cl...               1.0   \n",
       "\n",
       "     Inflight Entertainment  Seat Comfort  Staff Service  Value for Money  \\\n",
       "404                     1.0           1.0            NaN              NaN   \n",
       "\n",
       "    Type Of Traveller       Seat Type  \\\n",
       "404    Family Leisure  Business Class   \n",
       "\n",
       "                                         Route    Date Flown  \\\n",
       "404  Vienna to Los Angeles via London Heathrow  January 2023   \n",
       "\n",
       "     Cabin Staff Service  Ground Service  Wifi & Connectivity  \\\n",
       "404                  2.0             1.0                  1.0   \n",
       "\n",
       "     Value For Money Recommended    Aircraft  \n",
       "404              1.0          no  A320, A380  "
      ]
     },
     "execution_count": 4,
     "metadata": {},
     "output_type": "execute_result"
    }
   ],
   "source": [
    "# dropping the duplicate index column\n",
    "df.drop(columns=[\"Unnamed: 0\"], inplace=True)\n",
    "df.sample()"
   ]
  },
  {
   "cell_type": "code",
   "execution_count": 5,
   "id": "9028165b-0fea-406d-b80b-9bf4a4a5def7",
   "metadata": {
    "execution": {
     "iopub.execute_input": "2024-09-04T17:08:40.547906Z",
     "iopub.status.busy": "2024-09-04T17:08:40.546902Z",
     "iopub.status.idle": "2024-09-04T17:08:40.577978Z",
     "shell.execute_reply": "2024-09-04T17:08:40.574971Z",
     "shell.execute_reply.started": "2024-09-04T17:08:40.547906Z"
    }
   },
   "outputs": [
    {
     "name": "stdout",
     "output_type": "stream",
     "text": [
      "<class 'pandas.core.frame.DataFrame'>\n",
      "RangeIndex: 3850 entries, 0 to 3849\n",
      "Data columns (total 17 columns):\n",
      " #   Column                  Non-Null Count  Dtype  \n",
      "---  ------                  --------------  -----  \n",
      " 0   reviewer_detail         3850 non-null   object \n",
      " 1   reviews                 3850 non-null   object \n",
      " 2   Food & Beverages        3428 non-null   float64\n",
      " 3   Inflight Entertainment  2637 non-null   float64\n",
      " 4   Seat Comfort            3727 non-null   float64\n",
      " 5   Staff Service           0 non-null      float64\n",
      " 6   Value for Money         0 non-null      float64\n",
      " 7   Type Of Traveller       3084 non-null   object \n",
      " 8   Seat Type               3849 non-null   object \n",
      " 9   Route                   3079 non-null   object \n",
      " 10  Date Flown              3077 non-null   object \n",
      " 11  Cabin Staff Service     3713 non-null   float64\n",
      " 12  Ground Service          3005 non-null   float64\n",
      " 13  Wifi & Connectivity     668 non-null    float64\n",
      " 14  Value For Money         3850 non-null   float64\n",
      " 15  Recommended             3850 non-null   object \n",
      " 16  Aircraft                2008 non-null   object \n",
      "dtypes: float64(9), object(8)\n",
      "memory usage: 511.5+ KB\n"
     ]
    }
   ],
   "source": [
    "df.info()"
   ]
  },
  {
   "cell_type": "code",
   "execution_count": 6,
   "id": "42d69cb3-bd68-4750-961b-a61c27995a6f",
   "metadata": {
    "execution": {
     "iopub.execute_input": "2024-09-04T17:08:40.583980Z",
     "iopub.status.busy": "2024-09-04T17:08:40.581978Z",
     "iopub.status.idle": "2024-09-04T17:08:40.617705Z",
     "shell.execute_reply": "2024-09-04T17:08:40.616694Z",
     "shell.execute_reply.started": "2024-09-04T17:08:40.583980Z"
    }
   },
   "outputs": [
    {
     "data": {
      "text/html": [
       "<div>\n",
       "<style scoped>\n",
       "    .dataframe tbody tr th:only-of-type {\n",
       "        vertical-align: middle;\n",
       "    }\n",
       "\n",
       "    .dataframe tbody tr th {\n",
       "        vertical-align: top;\n",
       "    }\n",
       "\n",
       "    .dataframe thead th {\n",
       "        text-align: right;\n",
       "    }\n",
       "</style>\n",
       "<table border=\"1\" class=\"dataframe\">\n",
       "  <thead>\n",
       "    <tr style=\"text-align: right;\">\n",
       "      <th></th>\n",
       "      <th>reviewer_detail</th>\n",
       "      <th>reviews</th>\n",
       "      <th>Food &amp; Beverages</th>\n",
       "      <th>Inflight Entertainment</th>\n",
       "      <th>Seat Comfort</th>\n",
       "      <th>Value for Money</th>\n",
       "      <th>Type Of Traveller</th>\n",
       "      <th>Seat Type</th>\n",
       "      <th>Route</th>\n",
       "      <th>Date Flown</th>\n",
       "      <th>Cabin Staff Service</th>\n",
       "      <th>Ground Service</th>\n",
       "      <th>Wifi &amp; Connectivity</th>\n",
       "      <th>Value For Money</th>\n",
       "      <th>Recommended</th>\n",
       "      <th>Aircraft</th>\n",
       "    </tr>\n",
       "  </thead>\n",
       "  <tbody>\n",
       "    <tr>\n",
       "      <th>1509</th>\n",
       "      <td>28 reviewsC Cordan(United States)5th December ...</td>\n",
       "      <td>✅Trip Verified|  London to Manchester. Hard to...</td>\n",
       "      <td>NaN</td>\n",
       "      <td>NaN</td>\n",
       "      <td>4.0</td>\n",
       "      <td>NaN</td>\n",
       "      <td>Solo Leisure</td>\n",
       "      <td>Economy Class</td>\n",
       "      <td>London to Manchester</td>\n",
       "      <td>November 2017</td>\n",
       "      <td>5.0</td>\n",
       "      <td>4.0</td>\n",
       "      <td>NaN</td>\n",
       "      <td>4.0</td>\n",
       "      <td>yes</td>\n",
       "      <td>NaN</td>\n",
       "    </tr>\n",
       "  </tbody>\n",
       "</table>\n",
       "</div>"
      ],
      "text/plain": [
       "                                        reviewer_detail  \\\n",
       "1509  28 reviewsC Cordan(United States)5th December ...   \n",
       "\n",
       "                                                reviews  Food & Beverages  \\\n",
       "1509  ✅Trip Verified|  London to Manchester. Hard to...               NaN   \n",
       "\n",
       "      Inflight Entertainment  Seat Comfort  Value for Money Type Of Traveller  \\\n",
       "1509                     NaN           4.0              NaN      Solo Leisure   \n",
       "\n",
       "          Seat Type                 Route     Date Flown  Cabin Staff Service  \\\n",
       "1509  Economy Class  London to Manchester  November 2017                  5.0   \n",
       "\n",
       "      Ground Service  Wifi & Connectivity  Value For Money Recommended  \\\n",
       "1509             4.0                  NaN              4.0         yes   \n",
       "\n",
       "     Aircraft  \n",
       "1509      NaN  "
      ]
     },
     "execution_count": 6,
     "metadata": {},
     "output_type": "execute_result"
    }
   ],
   "source": [
    "# dropping 'staff_service' and 'value_for_money' column as there are no values in that column\n",
    "df.drop(columns=[\"Staff Service\"], inplace=True)\n",
    "df.sample()"
   ]
  },
  {
   "cell_type": "code",
   "execution_count": 7,
   "id": "1cbfbedf-5726-4303-ad4c-0decec21332a",
   "metadata": {
    "execution": {
     "iopub.execute_input": "2024-09-04T17:08:40.621722Z",
     "iopub.status.busy": "2024-09-04T17:08:40.619704Z",
     "iopub.status.idle": "2024-09-04T17:08:40.661522Z",
     "shell.execute_reply": "2024-09-04T17:08:40.659506Z",
     "shell.execute_reply.started": "2024-09-04T17:08:40.621722Z"
    }
   },
   "outputs": [
    {
     "data": {
      "text/html": [
       "<div>\n",
       "<style scoped>\n",
       "    .dataframe tbody tr th:only-of-type {\n",
       "        vertical-align: middle;\n",
       "    }\n",
       "\n",
       "    .dataframe tbody tr th {\n",
       "        vertical-align: top;\n",
       "    }\n",
       "\n",
       "    .dataframe thead th {\n",
       "        text-align: right;\n",
       "    }\n",
       "</style>\n",
       "<table border=\"1\" class=\"dataframe\">\n",
       "  <thead>\n",
       "    <tr style=\"text-align: right;\">\n",
       "      <th></th>\n",
       "      <th>reviewer_detail</th>\n",
       "      <th>reviews</th>\n",
       "      <th>Food &amp; Beverages</th>\n",
       "      <th>Inflight Entertainment</th>\n",
       "      <th>Seat Comfort</th>\n",
       "      <th>Type Of Traveller</th>\n",
       "      <th>Seat Type</th>\n",
       "      <th>Route</th>\n",
       "      <th>Date Flown</th>\n",
       "      <th>Cabin Staff Service</th>\n",
       "      <th>Ground Service</th>\n",
       "      <th>Wifi &amp; Connectivity</th>\n",
       "      <th>Value For Money</th>\n",
       "      <th>Recommended</th>\n",
       "      <th>Aircraft</th>\n",
       "    </tr>\n",
       "  </thead>\n",
       "  <tbody>\n",
       "    <tr>\n",
       "      <th>3145</th>\n",
       "      <td>G James(United Kingdom)13th May 2015</td>\n",
       "      <td>Flew MAN-LHR-YYZ and return. Outward in premiu...</td>\n",
       "      <td>5.0</td>\n",
       "      <td>5.0</td>\n",
       "      <td>4.0</td>\n",
       "      <td>NaN</td>\n",
       "      <td>Premium Economy</td>\n",
       "      <td>NaN</td>\n",
       "      <td>NaN</td>\n",
       "      <td>5.0</td>\n",
       "      <td>NaN</td>\n",
       "      <td>NaN</td>\n",
       "      <td>4.0</td>\n",
       "      <td>yes</td>\n",
       "      <td>NaN</td>\n",
       "    </tr>\n",
       "  </tbody>\n",
       "</table>\n",
       "</div>"
      ],
      "text/plain": [
       "                           reviewer_detail  \\\n",
       "3145  G James(United Kingdom)13th May 2015   \n",
       "\n",
       "                                                reviews  Food & Beverages  \\\n",
       "3145  Flew MAN-LHR-YYZ and return. Outward in premiu...               5.0   \n",
       "\n",
       "      Inflight Entertainment  Seat Comfort Type Of Traveller        Seat Type  \\\n",
       "3145                     5.0           4.0               NaN  Premium Economy   \n",
       "\n",
       "     Route Date Flown  Cabin Staff Service  Ground Service  \\\n",
       "3145   NaN        NaN                  5.0             NaN   \n",
       "\n",
       "      Wifi & Connectivity  Value For Money Recommended Aircraft  \n",
       "3145                  NaN              4.0         yes      NaN  "
      ]
     },
     "execution_count": 7,
     "metadata": {},
     "output_type": "execute_result"
    }
   ],
   "source": [
    "# there is  Value for Money Column and Value For Money\n",
    "# dropping the first Value for money Column\n",
    "df.drop(columns=[\"Value for Money\"], inplace=True)\n",
    "df.sample()"
   ]
  },
  {
   "cell_type": "code",
   "execution_count": 8,
   "id": "7d36990b-6c0f-4c43-8f5c-db37cbca8320",
   "metadata": {
    "execution": {
     "iopub.execute_input": "2024-09-04T17:08:40.667518Z",
     "iopub.status.busy": "2024-09-04T17:08:40.666518Z",
     "iopub.status.idle": "2024-09-04T17:08:40.715409Z",
     "shell.execute_reply": "2024-09-04T17:08:40.713395Z",
     "shell.execute_reply.started": "2024-09-04T17:08:40.667518Z"
    }
   },
   "outputs": [
    {
     "data": {
      "text/html": [
       "<div>\n",
       "<style scoped>\n",
       "    .dataframe tbody tr th:only-of-type {\n",
       "        vertical-align: middle;\n",
       "    }\n",
       "\n",
       "    .dataframe tbody tr th {\n",
       "        vertical-align: top;\n",
       "    }\n",
       "\n",
       "    .dataframe thead th {\n",
       "        text-align: right;\n",
       "    }\n",
       "</style>\n",
       "<table border=\"1\" class=\"dataframe\">\n",
       "  <thead>\n",
       "    <tr style=\"text-align: right;\">\n",
       "      <th></th>\n",
       "      <th>reviewer_detail</th>\n",
       "      <th>reviews</th>\n",
       "      <th>food_and_beverages</th>\n",
       "      <th>inflight_entertainment</th>\n",
       "      <th>seat_comfort</th>\n",
       "      <th>type_of_traveller</th>\n",
       "      <th>seat_type</th>\n",
       "      <th>route</th>\n",
       "      <th>date_flown</th>\n",
       "      <th>cabin_staff_service</th>\n",
       "      <th>ground_service</th>\n",
       "      <th>wifi_and_connectivity</th>\n",
       "      <th>value_for_money</th>\n",
       "      <th>recommended</th>\n",
       "      <th>aircraft</th>\n",
       "    </tr>\n",
       "  </thead>\n",
       "  <tbody>\n",
       "    <tr>\n",
       "      <th>2975</th>\n",
       "      <td>Nigel Diepering(South Africa)4th August 2015</td>\n",
       "      <td>The flight left on time and arrived early, whi...</td>\n",
       "      <td>3.0</td>\n",
       "      <td>2.0</td>\n",
       "      <td>2.0</td>\n",
       "      <td>Couple Leisure</td>\n",
       "      <td>Economy Class</td>\n",
       "      <td>London to Cape Town</td>\n",
       "      <td>July 2015</td>\n",
       "      <td>4.0</td>\n",
       "      <td>3.0</td>\n",
       "      <td>NaN</td>\n",
       "      <td>3.0</td>\n",
       "      <td>yes</td>\n",
       "      <td>Boeing 747 400</td>\n",
       "    </tr>\n",
       "  </tbody>\n",
       "</table>\n",
       "</div>"
      ],
      "text/plain": [
       "                                   reviewer_detail  \\\n",
       "2975  Nigel Diepering(South Africa)4th August 2015   \n",
       "\n",
       "                                                reviews  food_and_beverages  \\\n",
       "2975  The flight left on time and arrived early, whi...                 3.0   \n",
       "\n",
       "      inflight_entertainment  seat_comfort type_of_traveller      seat_type  \\\n",
       "2975                     2.0           2.0    Couple Leisure  Economy Class   \n",
       "\n",
       "                    route date_flown  cabin_staff_service  ground_service  \\\n",
       "2975  London to Cape Town  July 2015                  4.0             3.0   \n",
       "\n",
       "      wifi_and_connectivity  value_for_money recommended        aircraft  \n",
       "2975                    NaN              3.0         yes  Boeing 747 400  "
      ]
     },
     "execution_count": 8,
     "metadata": {},
     "output_type": "execute_result"
    }
   ],
   "source": [
    "# renaming all the column\n",
    "df.rename(\n",
    "    columns={\n",
    "        \"reviewer_detail\": \"reviewer_detail\",\n",
    "        \"reviews\": \"reviews\",\n",
    "        \"Food & Beverages\": \"food_and_beverages\",\n",
    "        \"Inflight Entertainment\": \"inflight_entertainment\",\n",
    "        \"Seat Comfort\": \"seat_comfort\",\n",
    "        \"Type Of Traveller\": \"type_of_traveller\",\n",
    "        \"Seat Type\": \"seat_type\",\n",
    "        \"Route\": \"route\",\n",
    "        \"Date Flown\": \"date_flown\",\n",
    "        \"Cabin Staff Service\": \"cabin_staff_service\",\n",
    "        \"Ground Service\": \"ground_service\",\n",
    "        \"Wifi & Connectivity\": \"wifi_and_connectivity\",\n",
    "        \"Value For Money\": \"value_for_money\",\n",
    "        \"Recommended\": \"recommended\",\n",
    "        \"Aircraft\": \"aircraft\",\n",
    "    },\n",
    "    inplace=True,\n",
    ")\n",
    "\n",
    "df.sample()"
   ]
  },
  {
   "cell_type": "code",
   "execution_count": 9,
   "id": "a1dcb264-c6d9-4666-b587-d4f99e96352b",
   "metadata": {
    "execution": {
     "iopub.execute_input": "2024-09-04T17:08:40.719409Z",
     "iopub.status.busy": "2024-09-04T17:08:40.718407Z",
     "iopub.status.idle": "2024-09-04T17:08:40.797149Z",
     "shell.execute_reply": "2024-09-04T17:08:40.796138Z",
     "shell.execute_reply.started": "2024-09-04T17:08:40.719409Z"
    }
   },
   "outputs": [
    {
     "data": {
      "text/html": [
       "<div>\n",
       "<style scoped>\n",
       "    .dataframe tbody tr th:only-of-type {\n",
       "        vertical-align: middle;\n",
       "    }\n",
       "\n",
       "    .dataframe tbody tr th {\n",
       "        vertical-align: top;\n",
       "    }\n",
       "\n",
       "    .dataframe thead th {\n",
       "        text-align: right;\n",
       "    }\n",
       "</style>\n",
       "<table border=\"1\" class=\"dataframe\">\n",
       "  <thead>\n",
       "    <tr style=\"text-align: right;\">\n",
       "      <th></th>\n",
       "      <th>reviews</th>\n",
       "      <th>food_and_beverages</th>\n",
       "      <th>inflight_entertainment</th>\n",
       "      <th>seat_comfort</th>\n",
       "      <th>type_of_traveller</th>\n",
       "      <th>seat_type</th>\n",
       "      <th>route</th>\n",
       "      <th>date_flown</th>\n",
       "      <th>cabin_staff_service</th>\n",
       "      <th>ground_service</th>\n",
       "      <th>wifi_and_connectivity</th>\n",
       "      <th>value_for_money</th>\n",
       "      <th>recommended</th>\n",
       "      <th>aircraft</th>\n",
       "      <th>reviewer_name</th>\n",
       "      <th>review_place</th>\n",
       "      <th>review_date</th>\n",
       "    </tr>\n",
       "  </thead>\n",
       "  <tbody>\n",
       "    <tr>\n",
       "      <th>880</th>\n",
       "      <td>✅Trip Verified|  Kuala Lumpur to Glasgow via L...</td>\n",
       "      <td>2.0</td>\n",
       "      <td>3.0</td>\n",
       "      <td>5.0</td>\n",
       "      <td>Solo Leisure</td>\n",
       "      <td>Premium Economy</td>\n",
       "      <td>Kuala Lumpur to Glasgow via London</td>\n",
       "      <td>October 2019</td>\n",
       "      <td>1.0</td>\n",
       "      <td>2.0</td>\n",
       "      <td>NaN</td>\n",
       "      <td>1.0</td>\n",
       "      <td>no</td>\n",
       "      <td>Boeing 787</td>\n",
       "      <td>A Tarneyso</td>\n",
       "      <td>Argentina</td>\n",
       "      <td>20th October 2019</td>\n",
       "    </tr>\n",
       "    <tr>\n",
       "      <th>3303</th>\n",
       "      <td>MAD-LHR-JED club world 777-200. The overall pr...</td>\n",
       "      <td>4.0</td>\n",
       "      <td>4.0</td>\n",
       "      <td>3.0</td>\n",
       "      <td>NaN</td>\n",
       "      <td>Business Class</td>\n",
       "      <td>NaN</td>\n",
       "      <td>NaN</td>\n",
       "      <td>4.0</td>\n",
       "      <td>NaN</td>\n",
       "      <td>NaN</td>\n",
       "      <td>4.0</td>\n",
       "      <td>yes</td>\n",
       "      <td>NaN</td>\n",
       "      <td>J Bacallado</td>\n",
       "      <td>Spain</td>\n",
       "      <td>28th January 2015</td>\n",
       "    </tr>\n",
       "    <tr>\n",
       "      <th>2687</th>\n",
       "      <td>Montreal to Rome via London with British Airwa...</td>\n",
       "      <td>1.0</td>\n",
       "      <td>1.0</td>\n",
       "      <td>4.0</td>\n",
       "      <td>Couple Leisure</td>\n",
       "      <td>Economy Class</td>\n",
       "      <td>YUL to FCO via LHR</td>\n",
       "      <td>October 2015</td>\n",
       "      <td>3.0</td>\n",
       "      <td>1.0</td>\n",
       "      <td>NaN</td>\n",
       "      <td>1.0</td>\n",
       "      <td>no</td>\n",
       "      <td>Boeing 777</td>\n",
       "      <td>Gary Barnes</td>\n",
       "      <td>United States</td>\n",
       "      <td>1st December 2015</td>\n",
       "    </tr>\n",
       "    <tr>\n",
       "      <th>3592</th>\n",
       "      <td>Travelled YYZ-LHR-ARN and return in mid August...</td>\n",
       "      <td>4.0</td>\n",
       "      <td>3.0</td>\n",
       "      <td>4.0</td>\n",
       "      <td>NaN</td>\n",
       "      <td>Premium Economy</td>\n",
       "      <td>NaN</td>\n",
       "      <td>NaN</td>\n",
       "      <td>3.0</td>\n",
       "      <td>NaN</td>\n",
       "      <td>NaN</td>\n",
       "      <td>4.0</td>\n",
       "      <td>yes</td>\n",
       "      <td>NaN</td>\n",
       "      <td>B Soleymani</td>\n",
       "      <td>Canada</td>\n",
       "      <td>9th September 2014</td>\n",
       "    </tr>\n",
       "    <tr>\n",
       "      <th>1407</th>\n",
       "      <td>✅Trip Verified|  Tampa to Gatwick. I am a disa...</td>\n",
       "      <td>5.0</td>\n",
       "      <td>5.0</td>\n",
       "      <td>4.0</td>\n",
       "      <td>Solo Leisure</td>\n",
       "      <td>Economy Class</td>\n",
       "      <td>Tampa to Gatwick</td>\n",
       "      <td>March 2018</td>\n",
       "      <td>5.0</td>\n",
       "      <td>5.0</td>\n",
       "      <td>NaN</td>\n",
       "      <td>5.0</td>\n",
       "      <td>yes</td>\n",
       "      <td>NaN</td>\n",
       "      <td>E Penton</td>\n",
       "      <td>United Kingdom</td>\n",
       "      <td>3rd April 2018</td>\n",
       "    </tr>\n",
       "  </tbody>\n",
       "</table>\n",
       "</div>"
      ],
      "text/plain": [
       "                                                reviews  food_and_beverages  \\\n",
       "880   ✅Trip Verified|  Kuala Lumpur to Glasgow via L...                 2.0   \n",
       "3303  MAD-LHR-JED club world 777-200. The overall pr...                 4.0   \n",
       "2687  Montreal to Rome via London with British Airwa...                 1.0   \n",
       "3592  Travelled YYZ-LHR-ARN and return in mid August...                 4.0   \n",
       "1407  ✅Trip Verified|  Tampa to Gatwick. I am a disa...                 5.0   \n",
       "\n",
       "      inflight_entertainment  seat_comfort type_of_traveller        seat_type  \\\n",
       "880                      3.0           5.0      Solo Leisure  Premium Economy   \n",
       "3303                     4.0           3.0               NaN   Business Class   \n",
       "2687                     1.0           4.0    Couple Leisure    Economy Class   \n",
       "3592                     3.0           4.0               NaN  Premium Economy   \n",
       "1407                     5.0           4.0      Solo Leisure    Economy Class   \n",
       "\n",
       "                                   route    date_flown  cabin_staff_service  \\\n",
       "880   Kuala Lumpur to Glasgow via London  October 2019                  1.0   \n",
       "3303                                 NaN           NaN                  4.0   \n",
       "2687                  YUL to FCO via LHR  October 2015                  3.0   \n",
       "3592                                 NaN           NaN                  3.0   \n",
       "1407                    Tampa to Gatwick    March 2018                  5.0   \n",
       "\n",
       "      ground_service  wifi_and_connectivity  value_for_money recommended  \\\n",
       "880              2.0                    NaN              1.0          no   \n",
       "3303             NaN                    NaN              4.0         yes   \n",
       "2687             1.0                    NaN              1.0          no   \n",
       "3592             NaN                    NaN              4.0         yes   \n",
       "1407             5.0                    NaN              5.0         yes   \n",
       "\n",
       "        aircraft reviewer_name    review_place         review_date  \n",
       "880   Boeing 787    A Tarneyso       Argentina   20th October 2019  \n",
       "3303         NaN   J Bacallado           Spain   28th January 2015  \n",
       "2687  Boeing 777   Gary Barnes   United States   1st December 2015  \n",
       "3592         NaN   B Soleymani          Canada  9th September 2014  \n",
       "1407         NaN      E Penton  United Kingdom      3rd April 2018  "
      ]
     },
     "execution_count": 9,
     "metadata": {},
     "output_type": "execute_result"
    }
   ],
   "source": [
    "# reviewer_detail\n",
    "# Extract name\n",
    "# Place\n",
    "# Time of review\n",
    "# Drop the reviewer_detail column\n",
    "\n",
    "df[\"reviewer_name\"] = df[\"reviewer_detail\"].str.split(\"(\", expand=True)[0]\n",
    "df[\"review_place\"] = df[\"reviewer_detail\"].str.extract(r\"\\((.*?)\\)\")[0]\n",
    "df[\"review_date\"] = df[\"reviewer_detail\"].str.split(\")\", expand=True)[1]\n",
    "\n",
    "df.drop(columns=[\"reviewer_detail\"], inplace=True)\n",
    "\n",
    "df.sample(5)"
   ]
  },
  {
   "cell_type": "code",
   "execution_count": 10,
   "id": "392ed214-a1a4-4d5c-ae44-e6f61009a9b9",
   "metadata": {
    "execution": {
     "iopub.execute_input": "2024-09-04T17:08:40.801148Z",
     "iopub.status.busy": "2024-09-04T17:08:40.800148Z",
     "iopub.status.idle": "2024-09-04T17:08:40.816847Z",
     "shell.execute_reply": "2024-09-04T17:08:40.815834Z",
     "shell.execute_reply.started": "2024-09-04T17:08:40.801148Z"
    }
   },
   "outputs": [],
   "source": [
    "# reviews\n",
    "# Extract Verified data\n",
    "temp_df = df[df[\"reviews\"].str.contains(\"Verified\")]"
   ]
  },
  {
   "cell_type": "code",
   "execution_count": 11,
   "id": "79e1c728-6c18-49dc-907b-aff0c67ebe9f",
   "metadata": {
    "execution": {
     "iopub.execute_input": "2024-09-04T17:08:40.822850Z",
     "iopub.status.busy": "2024-09-04T17:08:40.818844Z",
     "iopub.status.idle": "2024-09-04T17:08:40.867597Z",
     "shell.execute_reply": "2024-09-04T17:08:40.866583Z",
     "shell.execute_reply.started": "2024-09-04T17:08:40.822850Z"
    }
   },
   "outputs": [
    {
     "name": "stderr",
     "output_type": "stream",
     "text": [
      "C:\\Users\\yashr\\AppData\\Local\\Temp\\ipykernel_2112\\2515005010.py:1: SettingWithCopyWarning: \n",
      "A value is trying to be set on a copy of a slice from a DataFrame.\n",
      "Try using .loc[row_indexer,col_indexer] = value instead\n",
      "\n",
      "See the caveats in the documentation: https://pandas.pydata.org/pandas-docs/stable/user_guide/indexing.html#returning-a-view-versus-a-copy\n",
      "  temp_df[\"verified\"] = temp_df[temp_df[\"reviews\"].str.contains(\"Verified\")][\n",
      "C:\\Users\\yashr\\AppData\\Local\\Temp\\ipykernel_2112\\2515005010.py:5: SettingWithCopyWarning: \n",
      "A value is trying to be set on a copy of a slice from a DataFrame\n",
      "\n",
      "See the caveats in the documentation: https://pandas.pydata.org/pandas-docs/stable/user_guide/indexing.html#returning-a-view-versus-a-copy\n",
      "  temp_df.drop(\n"
     ]
    }
   ],
   "source": [
    "temp_df[\"verified\"] = temp_df[temp_df[\"reviews\"].str.contains(\"Verified\")][\n",
    "    \"reviews\"\n",
    "].str.split(\"|\", expand=True)[0]\n",
    "\n",
    "temp_df.drop(\n",
    "    columns=[\n",
    "        \"food_and_beverages\",\n",
    "        \"inflight_entertainment\",\n",
    "        \"seat_comfort\",\n",
    "        \"type_of_traveller\",\n",
    "        \"seat_type\",\n",
    "        \"route\",\n",
    "        \"date_flown\",\n",
    "        \"cabin_staff_service\",\n",
    "        \"ground_service\",\n",
    "        \"wifi_and_connectivity\",\n",
    "        \"value_for_money\",\n",
    "        \"recommended\",\n",
    "        \"aircraft\",\n",
    "        \"review_place\",\n",
    "        \"review_date\",\n",
    "    ],\n",
    "    inplace=True,\n",
    ")"
   ]
  },
  {
   "cell_type": "code",
   "execution_count": 12,
   "id": "64f8bbb1-98cb-4425-bcaf-c4386c6acf39",
   "metadata": {
    "execution": {
     "iopub.execute_input": "2024-09-04T17:08:40.872599Z",
     "iopub.status.busy": "2024-09-04T17:08:40.870596Z",
     "iopub.status.idle": "2024-09-04T17:08:40.905679Z",
     "shell.execute_reply": "2024-09-04T17:08:40.903667Z",
     "shell.execute_reply.started": "2024-09-04T17:08:40.871597Z"
    }
   },
   "outputs": [],
   "source": [
    "df = pd.merge(df, temp_df, on=[\"reviews\", \"reviewer_name\"], how=\"left\")"
   ]
  },
  {
   "cell_type": "code",
   "execution_count": 13,
   "id": "1df98d93-07e2-49c3-92e9-af4fcf496c2c",
   "metadata": {
    "execution": {
     "iopub.execute_input": "2024-09-04T17:08:40.909680Z",
     "iopub.status.busy": "2024-09-04T17:08:40.908678Z",
     "iopub.status.idle": "2024-09-04T17:08:40.972194Z",
     "shell.execute_reply": "2024-09-04T17:08:40.971184Z",
     "shell.execute_reply.started": "2024-09-04T17:08:40.909680Z"
    }
   },
   "outputs": [
    {
     "data": {
      "text/html": [
       "<div>\n",
       "<style scoped>\n",
       "    .dataframe tbody tr th:only-of-type {\n",
       "        vertical-align: middle;\n",
       "    }\n",
       "\n",
       "    .dataframe tbody tr th {\n",
       "        vertical-align: top;\n",
       "    }\n",
       "\n",
       "    .dataframe thead th {\n",
       "        text-align: right;\n",
       "    }\n",
       "</style>\n",
       "<table border=\"1\" class=\"dataframe\">\n",
       "  <thead>\n",
       "    <tr style=\"text-align: right;\">\n",
       "      <th></th>\n",
       "      <th>food_and_beverages</th>\n",
       "      <th>inflight_entertainment</th>\n",
       "      <th>seat_comfort</th>\n",
       "      <th>type_of_traveller</th>\n",
       "      <th>seat_type</th>\n",
       "      <th>route</th>\n",
       "      <th>date_flown</th>\n",
       "      <th>cabin_staff_service</th>\n",
       "      <th>ground_service</th>\n",
       "      <th>wifi_and_connectivity</th>\n",
       "      <th>value_for_money</th>\n",
       "      <th>recommended</th>\n",
       "      <th>aircraft</th>\n",
       "      <th>reviewer_name</th>\n",
       "      <th>review_place</th>\n",
       "      <th>review_date</th>\n",
       "      <th>verified</th>\n",
       "      <th>review</th>\n",
       "    </tr>\n",
       "  </thead>\n",
       "  <tbody>\n",
       "    <tr>\n",
       "      <th>3508</th>\n",
       "      <td>4.0</td>\n",
       "      <td>1.0</td>\n",
       "      <td>3.0</td>\n",
       "      <td>NaN</td>\n",
       "      <td>Business Class</td>\n",
       "      <td>NaN</td>\n",
       "      <td>NaN</td>\n",
       "      <td>2.0</td>\n",
       "      <td>NaN</td>\n",
       "      <td>NaN</td>\n",
       "      <td>1.0</td>\n",
       "      <td>no</td>\n",
       "      <td>NaN</td>\n",
       "      <td>Dave Mcdermott</td>\n",
       "      <td>United Kingdom</td>\n",
       "      <td>22nd October 2014</td>\n",
       "      <td>NaN</td>\n",
       "      <td>Heathrow to Bergen Business no priority boardi...</td>\n",
       "    </tr>\n",
       "  </tbody>\n",
       "</table>\n",
       "</div>"
      ],
      "text/plain": [
       "      food_and_beverages  inflight_entertainment  seat_comfort  \\\n",
       "3508                 4.0                     1.0           3.0   \n",
       "\n",
       "     type_of_traveller       seat_type route date_flown  cabin_staff_service  \\\n",
       "3508               NaN  Business Class   NaN        NaN                  2.0   \n",
       "\n",
       "      ground_service  wifi_and_connectivity  value_for_money recommended  \\\n",
       "3508             NaN                    NaN              1.0          no   \n",
       "\n",
       "     aircraft   reviewer_name    review_place        review_date verified  \\\n",
       "3508      NaN  Dave Mcdermott  United Kingdom  22nd October 2014      NaN   \n",
       "\n",
       "                                                 review  \n",
       "3508  Heathrow to Bergen Business no priority boardi...  "
      ]
     },
     "execution_count": 13,
     "metadata": {},
     "output_type": "execute_result"
    }
   ],
   "source": [
    "#  Extract Review Data\n",
    "df[\"review\"] = df[\"reviews\"].str.split(\"|\").str[-1]\n",
    "df.drop(columns=\"reviews\", inplace=True)\n",
    "df.sample()"
   ]
  },
  {
   "cell_type": "code",
   "execution_count": 14,
   "id": "35d46afb-b465-45ac-a439-64549951de93",
   "metadata": {
    "execution": {
     "iopub.execute_input": "2024-09-04T17:08:40.975197Z",
     "iopub.status.busy": "2024-09-04T17:08:40.974194Z",
     "iopub.status.idle": "2024-09-04T17:08:40.987286Z",
     "shell.execute_reply": "2024-09-04T17:08:40.985276Z",
     "shell.execute_reply.started": "2024-09-04T17:08:40.975197Z"
    }
   },
   "outputs": [
    {
     "data": {
      "text/plain": [
       "1608"
      ]
     },
     "execution_count": 14,
     "metadata": {},
     "output_type": "execute_result"
    }
   ],
   "source": [
    "df[\"route\"].nunique()"
   ]
  },
  {
   "cell_type": "code",
   "execution_count": 15,
   "id": "02191021-6c5b-4f4d-abed-41de53eaf964",
   "metadata": {
    "execution": {
     "iopub.execute_input": "2024-09-04T17:08:40.991291Z",
     "iopub.status.busy": "2024-09-04T17:08:40.990287Z",
     "iopub.status.idle": "2024-09-04T17:08:41.029840Z",
     "shell.execute_reply": "2024-09-04T17:08:41.028832Z",
     "shell.execute_reply.started": "2024-09-04T17:08:40.990287Z"
    }
   },
   "outputs": [
    {
     "data": {
      "text/html": [
       "<div>\n",
       "<style scoped>\n",
       "    .dataframe tbody tr th:only-of-type {\n",
       "        vertical-align: middle;\n",
       "    }\n",
       "\n",
       "    .dataframe tbody tr th {\n",
       "        vertical-align: top;\n",
       "    }\n",
       "\n",
       "    .dataframe thead th {\n",
       "        text-align: right;\n",
       "    }\n",
       "</style>\n",
       "<table border=\"1\" class=\"dataframe\">\n",
       "  <thead>\n",
       "    <tr style=\"text-align: right;\">\n",
       "      <th></th>\n",
       "      <th>food_and_beverages</th>\n",
       "      <th>inflight_entertainment</th>\n",
       "      <th>seat_comfort</th>\n",
       "      <th>type_of_traveller</th>\n",
       "      <th>seat_type</th>\n",
       "      <th>route</th>\n",
       "      <th>date_flown</th>\n",
       "      <th>cabin_staff_service</th>\n",
       "      <th>ground_service</th>\n",
       "      <th>wifi_and_connectivity</th>\n",
       "      <th>value_for_money</th>\n",
       "      <th>recommended</th>\n",
       "      <th>aircraft</th>\n",
       "      <th>reviewer_name</th>\n",
       "      <th>review_place</th>\n",
       "      <th>review_date</th>\n",
       "      <th>verified</th>\n",
       "      <th>review</th>\n",
       "    </tr>\n",
       "  </thead>\n",
       "  <tbody>\n",
       "    <tr>\n",
       "      <th>3085</th>\n",
       "      <td>2.0</td>\n",
       "      <td>3.0</td>\n",
       "      <td>2.0</td>\n",
       "      <td>Business</td>\n",
       "      <td>Business Class</td>\n",
       "      <td>LHR-BOM</td>\n",
       "      <td>NaN</td>\n",
       "      <td>5.0</td>\n",
       "      <td>NaN</td>\n",
       "      <td>NaN</td>\n",
       "      <td>3.0</td>\n",
       "      <td>yes</td>\n",
       "      <td>NaN</td>\n",
       "      <td>Kevin Barrance</td>\n",
       "      <td>United Kingdom</td>\n",
       "      <td>11th June 2015</td>\n",
       "      <td>NaN</td>\n",
       "      <td>This review concerns LHR-BOM in Business Class...</td>\n",
       "    </tr>\n",
       "  </tbody>\n",
       "</table>\n",
       "</div>"
      ],
      "text/plain": [
       "      food_and_beverages  inflight_entertainment  seat_comfort  \\\n",
       "3085                 2.0                     3.0           2.0   \n",
       "\n",
       "     type_of_traveller       seat_type    route date_flown  \\\n",
       "3085          Business  Business Class  LHR-BOM        NaN   \n",
       "\n",
       "      cabin_staff_service  ground_service  wifi_and_connectivity  \\\n",
       "3085                  5.0             NaN                    NaN   \n",
       "\n",
       "      value_for_money recommended aircraft   reviewer_name    review_place  \\\n",
       "3085              3.0         yes      NaN  Kevin Barrance  United Kingdom   \n",
       "\n",
       "         review_date verified  \\\n",
       "3085  11th June 2015      NaN   \n",
       "\n",
       "                                                 review  \n",
       "3085  This review concerns LHR-BOM in Business Class...  "
      ]
     },
     "execution_count": 15,
     "metadata": {},
     "output_type": "execute_result"
    }
   ],
   "source": [
    "df.sample()"
   ]
  },
  {
   "cell_type": "code",
   "execution_count": 16,
   "id": "d0186672-f622-4ee2-b240-a3a5b991c090",
   "metadata": {
    "execution": {
     "iopub.execute_input": "2024-09-04T17:08:41.032842Z",
     "iopub.status.busy": "2024-09-04T17:08:41.031841Z",
     "iopub.status.idle": "2024-09-04T17:08:41.057508Z",
     "shell.execute_reply": "2024-09-04T17:08:41.056499Z",
     "shell.execute_reply.started": "2024-09-04T17:08:41.032842Z"
    }
   },
   "outputs": [],
   "source": [
    "# Split the 'route' column into three parts: 'Origin', 'Destination', and 'Stopover'\n",
    "df[[\"origin\", \"destination\", \"stopover\"]] = df[\"route\"].str.extract(\n",
    "    r\"^(.*) to (.*?)(?: via (.*))?$\"\n",
    ")"
   ]
  },
  {
   "cell_type": "code",
   "execution_count": 17,
   "id": "80e0aad5-10b7-4f9a-8e90-d8c15b68c748",
   "metadata": {
    "execution": {
     "iopub.execute_input": "2024-09-04T17:08:41.064511Z",
     "iopub.status.busy": "2024-09-04T17:08:41.063521Z",
     "iopub.status.idle": "2024-09-04T17:08:41.077667Z",
     "shell.execute_reply": "2024-09-04T17:08:41.076630Z",
     "shell.execute_reply.started": "2024-09-04T17:08:41.064511Z"
    }
   },
   "outputs": [],
   "source": [
    "df.drop(columns=\"route\", inplace=True)"
   ]
  },
  {
   "cell_type": "code",
   "execution_count": 18,
   "id": "b5ae181e-2690-4765-97af-379a6f8addb5",
   "metadata": {
    "execution": {
     "iopub.execute_input": "2024-09-04T17:08:41.084668Z",
     "iopub.status.busy": "2024-09-04T17:08:41.082680Z",
     "iopub.status.idle": "2024-09-04T17:08:41.127477Z",
     "shell.execute_reply": "2024-09-04T17:08:41.126467Z",
     "shell.execute_reply.started": "2024-09-04T17:08:41.084668Z"
    }
   },
   "outputs": [
    {
     "data": {
      "text/html": [
       "<div>\n",
       "<style scoped>\n",
       "    .dataframe tbody tr th:only-of-type {\n",
       "        vertical-align: middle;\n",
       "    }\n",
       "\n",
       "    .dataframe tbody tr th {\n",
       "        vertical-align: top;\n",
       "    }\n",
       "\n",
       "    .dataframe thead th {\n",
       "        text-align: right;\n",
       "    }\n",
       "</style>\n",
       "<table border=\"1\" class=\"dataframe\">\n",
       "  <thead>\n",
       "    <tr style=\"text-align: right;\">\n",
       "      <th></th>\n",
       "      <th>food_and_beverages</th>\n",
       "      <th>inflight_entertainment</th>\n",
       "      <th>seat_comfort</th>\n",
       "      <th>type_of_traveller</th>\n",
       "      <th>seat_type</th>\n",
       "      <th>date_flown</th>\n",
       "      <th>cabin_staff_service</th>\n",
       "      <th>ground_service</th>\n",
       "      <th>wifi_and_connectivity</th>\n",
       "      <th>value_for_money</th>\n",
       "      <th>recommended</th>\n",
       "      <th>aircraft</th>\n",
       "      <th>reviewer_name</th>\n",
       "      <th>review_place</th>\n",
       "      <th>review_date</th>\n",
       "      <th>verified</th>\n",
       "      <th>review</th>\n",
       "      <th>origin</th>\n",
       "      <th>destination</th>\n",
       "      <th>stopover</th>\n",
       "    </tr>\n",
       "  </thead>\n",
       "  <tbody>\n",
       "    <tr>\n",
       "      <th>0</th>\n",
       "      <td>1.0</td>\n",
       "      <td>1.0</td>\n",
       "      <td>2.0</td>\n",
       "      <td>Couple Leisure</td>\n",
       "      <td>Business Class</td>\n",
       "      <td>September 2024</td>\n",
       "      <td>1.0</td>\n",
       "      <td>2.0</td>\n",
       "      <td>3.0</td>\n",
       "      <td>2.0</td>\n",
       "      <td>no</td>\n",
       "      <td>NaN</td>\n",
       "      <td>Amanda Edgar</td>\n",
       "      <td>United Kingdom</td>\n",
       "      <td>2nd September 2024</td>\n",
       "      <td>✅Trip Verified</td>\n",
       "      <td>As someone who flies relentlessly with Britis...</td>\n",
       "      <td>London</td>\n",
       "      <td>Crete</td>\n",
       "      <td>NaN</td>\n",
       "    </tr>\n",
       "    <tr>\n",
       "      <th>1</th>\n",
       "      <td>3.0</td>\n",
       "      <td>NaN</td>\n",
       "      <td>3.0</td>\n",
       "      <td>Business</td>\n",
       "      <td>Business Class</td>\n",
       "      <td>August 2024</td>\n",
       "      <td>1.0</td>\n",
       "      <td>1.0</td>\n",
       "      <td>NaN</td>\n",
       "      <td>1.0</td>\n",
       "      <td>no</td>\n",
       "      <td>A319</td>\n",
       "      <td>S Morton</td>\n",
       "      <td>United Kingdom</td>\n",
       "      <td>1st September 2024</td>\n",
       "      <td>✅Trip Verified</td>\n",
       "      <td>Flew with British Airways club Europe on Sa...</td>\n",
       "      <td>Berlin</td>\n",
       "      <td>London</td>\n",
       "      <td>NaN</td>\n",
       "    </tr>\n",
       "    <tr>\n",
       "      <th>2</th>\n",
       "      <td>4.0</td>\n",
       "      <td>5.0</td>\n",
       "      <td>4.0</td>\n",
       "      <td>Family Leisure</td>\n",
       "      <td>Business Class</td>\n",
       "      <td>August 2024</td>\n",
       "      <td>4.0</td>\n",
       "      <td>4.0</td>\n",
       "      <td>5.0</td>\n",
       "      <td>4.0</td>\n",
       "      <td>yes</td>\n",
       "      <td>Boeing 777-200</td>\n",
       "      <td>E Smyth</td>\n",
       "      <td>United Kingdom</td>\n",
       "      <td>30th August 2024</td>\n",
       "      <td>✅Trip Verified</td>\n",
       "      <td>Straightforward check in T5. New site for c...</td>\n",
       "      <td>London</td>\n",
       "      <td>Toronto</td>\n",
       "      <td>NaN</td>\n",
       "    </tr>\n",
       "    <tr>\n",
       "      <th>3</th>\n",
       "      <td>NaN</td>\n",
       "      <td>NaN</td>\n",
       "      <td>1.0</td>\n",
       "      <td>Solo Leisure</td>\n",
       "      <td>Economy Class</td>\n",
       "      <td>August 2024</td>\n",
       "      <td>1.0</td>\n",
       "      <td>1.0</td>\n",
       "      <td>NaN</td>\n",
       "      <td>1.0</td>\n",
       "      <td>no</td>\n",
       "      <td>NaN</td>\n",
       "      <td>Lauren Boniface</td>\n",
       "      <td>United Kingdom</td>\n",
       "      <td>28th August 2024</td>\n",
       "      <td>Not Verified</td>\n",
       "      <td>I am beyond upset and disgusted with the disr...</td>\n",
       "      <td>London</td>\n",
       "      <td>Denver</td>\n",
       "      <td>NaN</td>\n",
       "    </tr>\n",
       "    <tr>\n",
       "      <th>4</th>\n",
       "      <td>3.0</td>\n",
       "      <td>4.0</td>\n",
       "      <td>4.0</td>\n",
       "      <td>Family Leisure</td>\n",
       "      <td>Business Class</td>\n",
       "      <td>July 2024</td>\n",
       "      <td>1.0</td>\n",
       "      <td>1.0</td>\n",
       "      <td>4.0</td>\n",
       "      <td>1.0</td>\n",
       "      <td>no</td>\n",
       "      <td>NaN</td>\n",
       "      <td>Il Yong Jung</td>\n",
       "      <td>Hong Kong</td>\n",
       "      <td>28th August 2024</td>\n",
       "      <td>✅Trip Verified</td>\n",
       "      <td>I purchased round trip direct flight busine...</td>\n",
       "      <td>London</td>\n",
       "      <td>Hong Kong</td>\n",
       "      <td>Doha</td>\n",
       "    </tr>\n",
       "  </tbody>\n",
       "</table>\n",
       "</div>"
      ],
      "text/plain": [
       "   food_and_beverages  inflight_entertainment  seat_comfort type_of_traveller  \\\n",
       "0                 1.0                     1.0           2.0    Couple Leisure   \n",
       "1                 3.0                     NaN           3.0          Business   \n",
       "2                 4.0                     5.0           4.0    Family Leisure   \n",
       "3                 NaN                     NaN           1.0      Solo Leisure   \n",
       "4                 3.0                     4.0           4.0    Family Leisure   \n",
       "\n",
       "        seat_type      date_flown  cabin_staff_service  ground_service  \\\n",
       "0  Business Class  September 2024                  1.0             2.0   \n",
       "1  Business Class     August 2024                  1.0             1.0   \n",
       "2  Business Class     August 2024                  4.0             4.0   \n",
       "3   Economy Class     August 2024                  1.0             1.0   \n",
       "4  Business Class       July 2024                  1.0             1.0   \n",
       "\n",
       "   wifi_and_connectivity  value_for_money recommended        aircraft  \\\n",
       "0                    3.0              2.0          no             NaN   \n",
       "1                    NaN              1.0          no            A319   \n",
       "2                    5.0              4.0         yes  Boeing 777-200   \n",
       "3                    NaN              1.0          no             NaN   \n",
       "4                    4.0              1.0          no             NaN   \n",
       "\n",
       "     reviewer_name    review_place         review_date        verified  \\\n",
       "0     Amanda Edgar  United Kingdom  2nd September 2024  ✅Trip Verified   \n",
       "1         S Morton  United Kingdom  1st September 2024  ✅Trip Verified   \n",
       "2          E Smyth  United Kingdom    30th August 2024  ✅Trip Verified   \n",
       "3  Lauren Boniface  United Kingdom    28th August 2024    Not Verified   \n",
       "4     Il Yong Jung       Hong Kong    28th August 2024  ✅Trip Verified   \n",
       "\n",
       "                                              review  origin destination  \\\n",
       "0   As someone who flies relentlessly with Britis...  London       Crete   \n",
       "1     Flew with British Airways club Europe on Sa...  Berlin      London   \n",
       "2     Straightforward check in T5. New site for c...  London     Toronto   \n",
       "3   I am beyond upset and disgusted with the disr...  London      Denver   \n",
       "4     I purchased round trip direct flight busine...  London   Hong Kong   \n",
       "\n",
       "  stopover  \n",
       "0      NaN  \n",
       "1      NaN  \n",
       "2      NaN  \n",
       "3      NaN  \n",
       "4     Doha  "
      ]
     },
     "execution_count": 18,
     "metadata": {},
     "output_type": "execute_result"
    }
   ],
   "source": [
    "df.head()"
   ]
  },
  {
   "cell_type": "code",
   "execution_count": 19,
   "id": "2e677b42-5117-4f6b-88f1-84313bad2930",
   "metadata": {
    "execution": {
     "iopub.execute_input": "2024-09-04T17:08:41.131477Z",
     "iopub.status.busy": "2024-09-04T17:08:41.130478Z",
     "iopub.status.idle": "2024-09-04T17:08:41.168256Z",
     "shell.execute_reply": "2024-09-04T17:08:41.167247Z",
     "shell.execute_reply.started": "2024-09-04T17:08:41.131477Z"
    }
   },
   "outputs": [
    {
     "data": {
      "text/html": [
       "<div>\n",
       "<style scoped>\n",
       "    .dataframe tbody tr th:only-of-type {\n",
       "        vertical-align: middle;\n",
       "    }\n",
       "\n",
       "    .dataframe tbody tr th {\n",
       "        vertical-align: top;\n",
       "    }\n",
       "\n",
       "    .dataframe thead th {\n",
       "        text-align: right;\n",
       "    }\n",
       "</style>\n",
       "<table border=\"1\" class=\"dataframe\">\n",
       "  <thead>\n",
       "    <tr style=\"text-align: right;\">\n",
       "      <th></th>\n",
       "      <th>reviewer_name</th>\n",
       "      <th>review</th>\n",
       "      <th>review_place</th>\n",
       "      <th>review_date</th>\n",
       "      <th>verified</th>\n",
       "      <th>aircraft</th>\n",
       "      <th>origin</th>\n",
       "      <th>destination</th>\n",
       "      <th>stopover</th>\n",
       "      <th>type_of_traveller</th>\n",
       "      <th>seat_type</th>\n",
       "      <th>date_flown</th>\n",
       "      <th>food_and_beverages</th>\n",
       "      <th>inflight_entertainment</th>\n",
       "      <th>seat_comfort</th>\n",
       "      <th>cabin_staff_service</th>\n",
       "      <th>ground_service</th>\n",
       "      <th>wifi_and_connectivity</th>\n",
       "      <th>value_for_money</th>\n",
       "      <th>recommended</th>\n",
       "    </tr>\n",
       "  </thead>\n",
       "  <tbody>\n",
       "    <tr>\n",
       "      <th>1148</th>\n",
       "      <td>Ally Wharton</td>\n",
       "      <td>I used avios point to upgrade from economy to...</td>\n",
       "      <td>United Kingdom</td>\n",
       "      <td>21st January 2019</td>\n",
       "      <td>✅Trip Verified</td>\n",
       "      <td>Boeing 787 Dreamliner</td>\n",
       "      <td>London</td>\n",
       "      <td>Calgary</td>\n",
       "      <td>NaN</td>\n",
       "      <td>Business</td>\n",
       "      <td>Premium Economy</td>\n",
       "      <td>June 2018</td>\n",
       "      <td>3.0</td>\n",
       "      <td>4.0</td>\n",
       "      <td>3.0</td>\n",
       "      <td>3.0</td>\n",
       "      <td>4.0</td>\n",
       "      <td>3.0</td>\n",
       "      <td>2.0</td>\n",
       "      <td>yes</td>\n",
       "    </tr>\n",
       "  </tbody>\n",
       "</table>\n",
       "</div>"
      ],
      "text/plain": [
       "     reviewer_name                                             review  \\\n",
       "1148  Ally Wharton   I used avios point to upgrade from economy to...   \n",
       "\n",
       "        review_place        review_date        verified  \\\n",
       "1148  United Kingdom  21st January 2019  ✅Trip Verified   \n",
       "\n",
       "                   aircraft  origin destination stopover type_of_traveller  \\\n",
       "1148  Boeing 787 Dreamliner  London     Calgary      NaN          Business   \n",
       "\n",
       "            seat_type date_flown  food_and_beverages  inflight_entertainment  \\\n",
       "1148  Premium Economy  June 2018                 3.0                     4.0   \n",
       "\n",
       "      seat_comfort  cabin_staff_service  ground_service  \\\n",
       "1148           3.0                  3.0             4.0   \n",
       "\n",
       "      wifi_and_connectivity  value_for_money recommended  \n",
       "1148                    3.0              2.0         yes  "
      ]
     },
     "execution_count": 19,
     "metadata": {},
     "output_type": "execute_result"
    }
   ],
   "source": [
    "# arrange column\n",
    "column_order = [\n",
    "    \"reviewer_name\",\n",
    "    \"review\",\n",
    "    \"review_place\",\n",
    "    \"review_date\",\n",
    "    \"verified\",\n",
    "    \"aircraft\",\n",
    "    \"origin\",\n",
    "    \"destination\",\n",
    "    \"stopover\",\n",
    "    \"type_of_traveller\",\n",
    "    \"seat_type\",\n",
    "    \"date_flown\",\n",
    "    \"food_and_beverages\",\n",
    "    \"inflight_entertainment\",\n",
    "    \"seat_comfort\",\n",
    "    \"cabin_staff_service\",\n",
    "    \"ground_service\",\n",
    "    \"wifi_and_connectivity\",\n",
    "    \"value_for_money\",\n",
    "    \"recommended\",\n",
    "]\n",
    "\n",
    "df = df[column_order]\n",
    "df.sample()"
   ]
  },
  {
   "cell_type": "code",
   "execution_count": 20,
   "id": "b6a8df56-9c52-4824-9dd2-2eedc1aab2f6",
   "metadata": {
    "execution": {
     "iopub.execute_input": "2024-09-04T17:08:41.172258Z",
     "iopub.status.busy": "2024-09-04T17:08:41.170257Z",
     "iopub.status.idle": "2024-09-04T17:08:41.187632Z",
     "shell.execute_reply": "2024-09-04T17:08:41.184618Z",
     "shell.execute_reply.started": "2024-09-04T17:08:41.172258Z"
    }
   },
   "outputs": [
    {
     "data": {
      "text/plain": [
       "array(['✅Trip Verified', 'Not Verified', 'cNot Verified', '❎Not Verified',\n",
       "       nan, '✅Verified Review'], dtype=object)"
      ]
     },
     "execution_count": 20,
     "metadata": {},
     "output_type": "execute_result"
    }
   ],
   "source": [
    "df[\"verified\"].unique()"
   ]
  },
  {
   "cell_type": "code",
   "execution_count": 21,
   "id": "d32e6de3-27f1-465c-821f-10f7e2d7df03",
   "metadata": {
    "execution": {
     "iopub.execute_input": "2024-09-04T17:08:41.191632Z",
     "iopub.status.busy": "2024-09-04T17:08:41.190631Z",
     "iopub.status.idle": "2024-09-04T17:08:41.208578Z",
     "shell.execute_reply": "2024-09-04T17:08:41.207570Z",
     "shell.execute_reply.started": "2024-09-04T17:08:41.191632Z"
    }
   },
   "outputs": [],
   "source": [
    "df[\"verified\"] = df[\"verified\"].str.replace(\"❎\", \"\")\n",
    "df[\"verified\"] = df[\"verified\"].str.replace(\"✅\", \"\")"
   ]
  },
  {
   "cell_type": "code",
   "execution_count": 22,
   "id": "434903ba-8a6b-46d7-afc7-00da2339de17",
   "metadata": {
    "execution": {
     "iopub.execute_input": "2024-09-04T17:08:41.211579Z",
     "iopub.status.busy": "2024-09-04T17:08:41.210578Z",
     "iopub.status.idle": "2024-09-04T17:08:41.229413Z",
     "shell.execute_reply": "2024-09-04T17:08:41.226400Z",
     "shell.execute_reply.started": "2024-09-04T17:08:41.211579Z"
    }
   },
   "outputs": [
    {
     "data": {
      "text/plain": [
       "array(['Trip Verified', 'Not Verified', 'cNot Verified', nan,\n",
       "       'Verified Review'], dtype=object)"
      ]
     },
     "execution_count": 22,
     "metadata": {},
     "output_type": "execute_result"
    }
   ],
   "source": [
    "df[\"verified\"].unique()"
   ]
  },
  {
   "cell_type": "code",
   "execution_count": 23,
   "id": "309e9a8d-3bd7-400d-ab8e-a9b8ade27f30",
   "metadata": {
    "execution": {
     "iopub.execute_input": "2024-09-04T17:08:41.234415Z",
     "iopub.status.busy": "2024-09-04T17:08:41.233415Z",
     "iopub.status.idle": "2024-09-04T17:08:41.260080Z",
     "shell.execute_reply": "2024-09-04T17:08:41.259043Z",
     "shell.execute_reply.started": "2024-09-04T17:08:41.234415Z"
    }
   },
   "outputs": [],
   "source": [
    "df[\"verified\"] = df[\"verified\"].str.replace(\"Trip Verified\", \"yes\")\n",
    "df[\"verified\"] = df[\"verified\"].str.replace(\"Not Verified\", \"no\")\n",
    "df[\"verified\"] = df[\"verified\"].str.replace(\"cNot Verified\", \"no\")\n",
    "df[\"verified\"] = df[\"verified\"].str.replace(\"Verified Review\", \"yes\")\n",
    "df[\"verified\"] = df[\"verified\"].str.replace(\"cno\", \"no\")"
   ]
  },
  {
   "cell_type": "code",
   "execution_count": 24,
   "id": "0ac80bdd-e5a7-4ec2-a75a-cc3b1b0a5d90",
   "metadata": {
    "execution": {
     "iopub.execute_input": "2024-09-04T17:08:41.271106Z",
     "iopub.status.busy": "2024-09-04T17:08:41.269086Z",
     "iopub.status.idle": "2024-09-04T17:08:41.287743Z",
     "shell.execute_reply": "2024-09-04T17:08:41.285731Z",
     "shell.execute_reply.started": "2024-09-04T17:08:41.271106Z"
    }
   },
   "outputs": [
    {
     "data": {
      "text/plain": [
       "array(['yes', 'no', nan], dtype=object)"
      ]
     },
     "execution_count": 24,
     "metadata": {},
     "output_type": "execute_result"
    }
   ],
   "source": [
    "df[\"verified\"].unique()"
   ]
  },
  {
   "cell_type": "code",
   "execution_count": 25,
   "id": "bc71b7a6-340c-4ae7-9db5-cf27422ff766",
   "metadata": {
    "execution": {
     "iopub.execute_input": "2024-09-04T17:08:41.293747Z",
     "iopub.status.busy": "2024-09-04T17:08:41.291741Z",
     "iopub.status.idle": "2024-09-04T17:08:41.316356Z",
     "shell.execute_reply": "2024-09-04T17:08:41.315346Z",
     "shell.execute_reply.started": "2024-09-04T17:08:41.293747Z"
    }
   },
   "outputs": [
    {
     "data": {
      "text/plain": [
       "1902              Richard Holt\n",
       "1989            Gillian Seaton\n",
       "1082                  P Harris\n",
       "2688            Kevin Barrance\n",
       "2069    1 reviewsGilberto Sing\n",
       "2393              Simon Fowler\n",
       "2025               Julie Smith\n",
       "2284            Peter McDonald\n",
       "1323                   C Poole\n",
       "1163                  R Barsat\n",
       "3112               David Hardy\n",
       "392                    E Smyth\n",
       "2558              Blair Dubois\n",
       "2582               Clive Drake\n",
       "2395              Annika Evans\n",
       "1332                  J Meares\n",
       "2794                 D Orchard\n",
       "449        31 reviewsR Gonzaga\n",
       "2424               Clive Drake\n",
       "2245             Paul Rutledge\n",
       "Name: reviewer_name, dtype: object"
      ]
     },
     "execution_count": 25,
     "metadata": {},
     "output_type": "execute_result"
    }
   ],
   "source": [
    "# Cleaning reviwer_name\n",
    "df['reviewer_name'].sample(20)"
   ]
  },
  {
   "cell_type": "code",
   "execution_count": 26,
   "id": "18d37545-acdf-4c5e-8b79-04f3d29122a0",
   "metadata": {
    "execution": {
     "iopub.execute_input": "2024-09-04T17:08:41.319360Z",
     "iopub.status.busy": "2024-09-04T17:08:41.318356Z",
     "iopub.status.idle": "2024-09-04T17:08:41.331676Z",
     "shell.execute_reply": "2024-09-04T17:08:41.330670Z",
     "shell.execute_reply.started": "2024-09-04T17:08:41.319360Z"
    }
   },
   "outputs": [],
   "source": [
    "def clean_reviewer_name(name):\n",
    "    if 'reviews' in name:\n",
    "        cleaned_name = name.split('reviews')[-1].strip()\n",
    "        return cleaned_name\n",
    "    return name.strip()\n",
    "\n",
    "df['reviewer_name'] = df['reviewer_name'].apply(clean_reviewer_name)"
   ]
  },
  {
   "cell_type": "code",
   "execution_count": 27,
   "id": "7d03d32e-14dd-4dab-bb69-80972396cee2",
   "metadata": {
    "execution": {
     "iopub.execute_input": "2024-09-04T17:08:41.335680Z",
     "iopub.status.busy": "2024-09-04T17:08:41.334680Z",
     "iopub.status.idle": "2024-09-04T17:08:41.379298Z",
     "shell.execute_reply": "2024-09-04T17:08:41.378285Z",
     "shell.execute_reply.started": "2024-09-04T17:08:41.335680Z"
    }
   },
   "outputs": [
    {
     "name": "stdout",
     "output_type": "stream",
     "text": [
      "<class 'pandas.core.frame.DataFrame'>\n",
      "RangeIndex: 3850 entries, 0 to 3849\n",
      "Data columns (total 20 columns):\n",
      " #   Column                  Non-Null Count  Dtype  \n",
      "---  ------                  --------------  -----  \n",
      " 0   reviewer_name           3850 non-null   object \n",
      " 1   review                  3850 non-null   object \n",
      " 2   review_place            3848 non-null   object \n",
      " 3   review_date             3848 non-null   object \n",
      " 4   verified                2311 non-null   object \n",
      " 5   aircraft                2008 non-null   object \n",
      " 6   origin                  3064 non-null   object \n",
      " 7   destination             3064 non-null   object \n",
      " 8   stopover                536 non-null    object \n",
      " 9   type_of_traveller       3084 non-null   object \n",
      " 10  seat_type               3849 non-null   object \n",
      " 11  date_flown              3077 non-null   object \n",
      " 12  food_and_beverages      3428 non-null   float64\n",
      " 13  inflight_entertainment  2637 non-null   float64\n",
      " 14  seat_comfort            3727 non-null   float64\n",
      " 15  cabin_staff_service     3713 non-null   float64\n",
      " 16  ground_service          3005 non-null   float64\n",
      " 17  wifi_and_connectivity   668 non-null    float64\n",
      " 18  value_for_money         3850 non-null   float64\n",
      " 19  recommended             3850 non-null   object \n",
      "dtypes: float64(7), object(13)\n",
      "memory usage: 601.7+ KB\n"
     ]
    }
   ],
   "source": [
    "# changing data type\n",
    "df.info()"
   ]
  },
  {
   "cell_type": "code",
   "execution_count": 28,
   "id": "ca5d159c-728f-4918-b08b-59265c171b6e",
   "metadata": {
    "execution": {
     "iopub.execute_input": "2024-09-04T17:08:41.384320Z",
     "iopub.status.busy": "2024-09-04T17:08:41.382296Z",
     "iopub.status.idle": "2024-09-04T17:08:41.461276Z",
     "shell.execute_reply": "2024-09-04T17:08:41.459258Z",
     "shell.execute_reply.started": "2024-09-04T17:08:41.384320Z"
    }
   },
   "outputs": [],
   "source": [
    "# convertind data type of date_flown and review_date\n",
    "import re\n",
    "def remove_ordinal_suffix(date_str):\n",
    "    if pd.isnull(date_str):\n",
    "        return date_str  # Return None or NaN as is\n",
    "    return re.sub(r'(\\d+)(st|nd|rd|th)', r'\\1', date_str)\n",
    "\n",
    "df['review_date'] = df['review_date'].apply(remove_ordinal_suffix)\n",
    "\n",
    "df['review_date'] = pd.to_datetime(df['review_date'], format='%d %B %Y')\n",
    "df['date_flown'] = pd.to_datetime(df['date_flown'], format='%B %Y')"
   ]
  },
  {
   "cell_type": "code",
   "execution_count": 29,
   "id": "2917a90c-8159-490b-a125-8bce7a1355ff",
   "metadata": {
    "execution": {
     "iopub.execute_input": "2024-09-04T17:08:41.465268Z",
     "iopub.status.busy": "2024-09-04T17:08:41.464270Z",
     "iopub.status.idle": "2024-09-04T17:08:41.513131Z",
     "shell.execute_reply": "2024-09-04T17:08:41.512119Z",
     "shell.execute_reply.started": "2024-09-04T17:08:41.465268Z"
    }
   },
   "outputs": [
    {
     "name": "stdout",
     "output_type": "stream",
     "text": [
      "<class 'pandas.core.frame.DataFrame'>\n",
      "RangeIndex: 3850 entries, 0 to 3849\n",
      "Data columns (total 20 columns):\n",
      " #   Column                  Non-Null Count  Dtype         \n",
      "---  ------                  --------------  -----         \n",
      " 0   reviewer_name           3850 non-null   object        \n",
      " 1   review                  3850 non-null   object        \n",
      " 2   review_place            3848 non-null   object        \n",
      " 3   review_date             3848 non-null   datetime64[ns]\n",
      " 4   verified                2311 non-null   object        \n",
      " 5   aircraft                2008 non-null   object        \n",
      " 6   origin                  3064 non-null   object        \n",
      " 7   destination             3064 non-null   object        \n",
      " 8   stopover                536 non-null    object        \n",
      " 9   type_of_traveller       3084 non-null   object        \n",
      " 10  seat_type               3849 non-null   object        \n",
      " 11  date_flown              3077 non-null   datetime64[ns]\n",
      " 12  food_and_beverages      3428 non-null   float64       \n",
      " 13  inflight_entertainment  2637 non-null   float64       \n",
      " 14  seat_comfort            3727 non-null   float64       \n",
      " 15  cabin_staff_service     3713 non-null   float64       \n",
      " 16  ground_service          3005 non-null   float64       \n",
      " 17  wifi_and_connectivity   668 non-null    float64       \n",
      " 18  value_for_money         3850 non-null   float64       \n",
      " 19  recommended             3850 non-null   object        \n",
      "dtypes: datetime64[ns](2), float64(7), object(11)\n",
      "memory usage: 601.7+ KB\n"
     ]
    }
   ],
   "source": [
    "df.info()"
   ]
  },
  {
   "cell_type": "code",
   "execution_count": 30,
   "id": "96fe3544-061d-423d-b275-1cca1942603c",
   "metadata": {
    "execution": {
     "iopub.execute_input": "2024-09-04T17:08:41.516130Z",
     "iopub.status.busy": "2024-09-04T17:08:41.515131Z",
     "iopub.status.idle": "2024-09-04T17:08:41.537681Z",
     "shell.execute_reply": "2024-09-04T17:08:41.533667Z",
     "shell.execute_reply.started": "2024-09-04T17:08:41.516130Z"
    }
   },
   "outputs": [
    {
     "data": {
      "text/plain": [
       "reviewer_name                     object\n",
       "review                            object\n",
       "review_place                      object\n",
       "review_date               datetime64[ns]\n",
       "verified                          object\n",
       "aircraft                          object\n",
       "origin                            object\n",
       "destination                       object\n",
       "stopover                          object\n",
       "type_of_traveller                 object\n",
       "seat_type                         object\n",
       "date_flown                datetime64[ns]\n",
       "food_and_beverages               float64\n",
       "inflight_entertainment           float64\n",
       "seat_comfort                     float64\n",
       "cabin_staff_service              float64\n",
       "ground_service                   float64\n",
       "wifi_and_connectivity            float64\n",
       "value_for_money                  float64\n",
       "recommended                       object\n",
       "dtype: object"
      ]
     },
     "execution_count": 30,
     "metadata": {},
     "output_type": "execute_result"
    }
   ],
   "source": [
    "df.dtypes"
   ]
  },
  {
   "cell_type": "code",
   "execution_count": 31,
   "id": "ec8b566f-9759-4403-9842-48cfe18eaded",
   "metadata": {
    "execution": {
     "iopub.execute_input": "2024-09-04T17:08:41.544681Z",
     "iopub.status.busy": "2024-09-04T17:08:41.542686Z",
     "iopub.status.idle": "2024-09-04T17:08:41.817021Z",
     "shell.execute_reply": "2024-09-04T17:08:41.816009Z",
     "shell.execute_reply.started": "2024-09-04T17:08:41.544681Z"
    }
   },
   "outputs": [],
   "source": [
    "# Exporting cleaned data to csf\n",
    "df.to_csv('BA-Cleaned.csv', index=False)"
   ]
  },
  {
   "cell_type": "code",
   "execution_count": 35,
   "id": "1052c670-55ca-49f3-91db-b38481b26440",
   "metadata": {
    "execution": {
     "iopub.execute_input": "2024-09-04T17:25:44.425850Z",
     "iopub.status.busy": "2024-09-04T17:25:44.424851Z",
     "iopub.status.idle": "2024-09-04T17:25:44.434889Z",
     "shell.execute_reply": "2024-09-04T17:25:44.433877Z",
     "shell.execute_reply.started": "2024-09-04T17:25:44.425850Z"
    }
   },
   "outputs": [
    {
     "data": {
      "text/plain": [
       "(18,)"
      ]
     },
     "execution_count": 35,
     "metadata": {},
     "output_type": "execute_result"
    }
   ],
   "source": [
    "check.columns.shape"
   ]
  },
  {
   "cell_type": "code",
   "execution_count": null,
   "id": "23f7a500-5621-4b0a-94e6-31472e8d8839",
   "metadata": {},
   "outputs": [],
   "source": []
  }
 ],
 "metadata": {
  "kernelspec": {
   "display_name": "Python 3 (ipykernel)",
   "language": "python",
   "name": "python3"
  },
  "language_info": {
   "codemirror_mode": {
    "name": "ipython",
    "version": 3
   },
   "file_extension": ".py",
   "mimetype": "text/x-python",
   "name": "python",
   "nbconvert_exporter": "python",
   "pygments_lexer": "ipython3",
   "version": "3.12.5"
  }
 },
 "nbformat": 4,
 "nbformat_minor": 5
}
