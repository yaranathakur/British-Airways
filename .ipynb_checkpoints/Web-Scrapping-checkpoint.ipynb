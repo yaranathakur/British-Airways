{
 "cells": [
  {
   "cell_type": "code",
   "execution_count": 1,
   "id": "ff5728a7-3326-4903-8590-0069631a28ae",
   "metadata": {
    "execution": {
     "iopub.execute_input": "2024-09-03T19:57:00.172107Z",
     "iopub.status.busy": "2024-09-03T19:57:00.170108Z",
     "iopub.status.idle": "2024-09-03T19:57:03.121002Z",
     "shell.execute_reply": "2024-09-03T19:57:03.119985Z",
     "shell.execute_reply.started": "2024-09-03T19:57:00.172107Z"
    }
   },
   "outputs": [],
   "source": [
    "import pandas as pd\n",
    "import numpy as np\n",
    "\n",
    "import requests\n",
    "\n",
    "from bs4 import BeautifulSoup"
   ]
  },
  {
   "cell_type": "code",
   "execution_count": 2,
   "id": "63561819-7785-4eba-ae4b-6aaba3b5ab2e",
   "metadata": {
    "execution": {
     "iopub.execute_input": "2024-09-03T19:57:03.132001Z",
     "iopub.status.busy": "2024-09-03T19:57:03.132001Z",
     "iopub.status.idle": "2024-09-03T20:04:45.622845Z",
     "shell.execute_reply": "2024-09-03T20:04:45.621837Z",
     "shell.execute_reply.started": "2024-09-03T19:57:03.132001Z"
    }
   },
   "outputs": [
    {
     "data": {
      "text/plain": [
       "((3850, 1),\n",
       "                                              reviews\n",
       " 0  ✅Trip Verified| As someone who flies relentles...\n",
       " 1  ✅Trip Verified|   Flew with British Airways cl...\n",
       " 2  ✅Trip Verified|   Straightforward check in T5....\n",
       " 3  Not Verified| I am beyond upset and disgusted ...\n",
       " 4  ✅Trip Verified|   I purchased round trip direc...)"
      ]
     },
     "execution_count": 2,
     "metadata": {},
     "output_type": "execute_result"
    }
   ],
   "source": [
    "# List to store all reviews\n",
    "all_reviews = []\n",
    "\n",
    "for page_num in range(1, 386):\n",
    "    url = f'https://www.airlinequality.com/airline-reviews/british-airways/page/{page_num}/'\n",
    "    response = requests.get(url)\n",
    "    \n",
    "    if response.status_code == 200:  # Check if the request was successful\n",
    "        soup = BeautifulSoup(response.text, 'lxml')\n",
    "        reviews = soup.find_all('div', class_='text_content')\n",
    "        reviews_text = [review.get_text(strip=True) for review in reviews]\n",
    "        \n",
    "        all_reviews.extend(reviews_text)\n",
    "    else:\n",
    "        print(f\"Failed to retrieve data from page {page_num}\")\n",
    "\n",
    "reviews_df = pd.DataFrame({'reviews': all_reviews})\n",
    "reviews_df.shape, reviews_df.head()"
   ]
  },
  {
   "cell_type": "code",
   "execution_count": 3,
   "id": "67808f8a-0550-4799-90ec-c5a6d68b4348",
   "metadata": {
    "execution": {
     "iopub.execute_input": "2024-09-03T20:04:45.646853Z",
     "iopub.status.busy": "2024-09-03T20:04:45.643854Z",
     "iopub.status.idle": "2024-09-03T20:12:30.968225Z",
     "shell.execute_reply": "2024-09-03T20:12:30.967219Z",
     "shell.execute_reply.started": "2024-09-03T20:04:45.646853Z"
    }
   },
   "outputs": [
    {
     "data": {
      "text/plain": [
       "(3850, 15)"
      ]
     },
     "execution_count": 3,
     "metadata": {},
     "output_type": "execute_result"
    }
   ],
   "source": [
    "# table data\n",
    "table_df = pd.DataFrame()\n",
    "\n",
    "for page in range(1, 386):\n",
    "    url = f'https://www.airlinequality.com/airline-reviews/british-airways/page/{page}/'\n",
    "    response = requests.get(url)\n",
    "    soup = BeautifulSoup(response.text, 'lxml')\n",
    "    \n",
    "    tables = soup.find_all('table', class_='review-ratings')\n",
    "    \n",
    "    df_list = []\n",
    "    \n",
    "    for table in tables:\n",
    "        data = {}\n",
    "        \n",
    "        for tr in table.find_all('tr'):\n",
    "            tds = tr.find_all('td')\n",
    "            if len(tds) == 2:\n",
    "                column_name = tds[0].get_text(strip=True)\n",
    "                \n",
    "                if 'review-rating-stars' in tds[1]['class']:\n",
    "                    spans = tds[1].find_all('span', class_='star fill')\n",
    "                    column_value = len(spans)\n",
    "                else:\n",
    "                    column_value = tds[1].get_text(strip=True)\n",
    "                \n",
    "                data[column_name] = column_value\n",
    "        \n",
    "        if data:\n",
    "            df = pd.DataFrame([data])\n",
    "            df_list.append(df)\n",
    "    \n",
    "    page_data_df = pd.concat(df_list, ignore_index=True)\n",
    "\n",
    "    if not page_data_df.empty:\n",
    "        page_data_df = page_data_df.iloc[1:]\n",
    "    \n",
    "    \n",
    "    table_df = pd.concat([table_df, page_data_df], ignore_index=True)\n",
    "\n",
    "\n",
    "table_df.shape"
   ]
  },
  {
   "cell_type": "code",
   "execution_count": 4,
   "id": "a85ad8e8-2b8d-4d3c-9189-5a26958da8e8",
   "metadata": {
    "execution": {
     "iopub.execute_input": "2024-09-03T20:12:30.978227Z",
     "iopub.status.busy": "2024-09-03T20:12:30.977226Z",
     "iopub.status.idle": "2024-09-03T20:12:31.017237Z",
     "shell.execute_reply": "2024-09-03T20:12:31.014259Z",
     "shell.execute_reply.started": "2024-09-03T20:12:30.978227Z"
    }
   },
   "outputs": [
    {
     "name": "stdout",
     "output_type": "stream",
     "text": [
      "<class 'pandas.core.frame.DataFrame'>\n",
      "RangeIndex: 3850 entries, 0 to 3849\n",
      "Data columns (total 15 columns):\n",
      " #   Column                  Non-Null Count  Dtype  \n",
      "---  ------                  --------------  -----  \n",
      " 0   Food & Beverages        3428 non-null   float64\n",
      " 1   Inflight Entertainment  2637 non-null   float64\n",
      " 2   Seat Comfort            3727 non-null   float64\n",
      " 3   Staff Service           0 non-null      float64\n",
      " 4   Value for Money         0 non-null      float64\n",
      " 5   Type Of Traveller       3084 non-null   object \n",
      " 6   Seat Type               3849 non-null   object \n",
      " 7   Route                   3079 non-null   object \n",
      " 8   Date Flown              3077 non-null   object \n",
      " 9   Cabin Staff Service     3713 non-null   float64\n",
      " 10  Ground Service          3005 non-null   float64\n",
      " 11  Wifi & Connectivity     668 non-null    float64\n",
      " 12  Value For Money         3850 non-null   float64\n",
      " 13  Recommended             3850 non-null   object \n",
      " 14  Aircraft                2008 non-null   object \n",
      "dtypes: float64(9), object(6)\n",
      "memory usage: 451.3+ KB\n"
     ]
    }
   ],
   "source": [
    "table_df.info()"
   ]
  },
  {
   "cell_type": "code",
   "execution_count": 5,
   "id": "fdb4b604-7b47-48b1-904d-a4b310d652e3",
   "metadata": {
    "execution": {
     "iopub.execute_input": "2024-09-03T20:12:31.021238Z",
     "iopub.status.busy": "2024-09-03T20:12:31.020241Z",
     "iopub.status.idle": "2024-09-03T20:18:17.789261Z",
     "shell.execute_reply": "2024-09-03T20:18:17.787482Z",
     "shell.execute_reply.started": "2024-09-03T20:12:31.021238Z"
    }
   },
   "outputs": [],
   "source": [
    "# extract all reviews header\n",
    "all_header = []\n",
    "\n",
    "for page_num in range(1, 386):\n",
    "    url = f'https://www.airlinequality.com/airline-reviews/british-airways/page/{page_num}/'\n",
    "    response = requests.get(url)\n",
    "    \n",
    "    if response.status_code == 200:  # Check if the request was successful\n",
    "        soup = BeautifulSoup(response.text, 'lxml')\n",
    "        headers = soup.find_all('h2', class_='text_header')\n",
    "        headers_text = [header.get_text(strip=True) for header in headers]\n",
    "        \n",
    "        all_header.extend(headers_text)\n",
    "    else:\n",
    "        print(f\"Failed to retrieve data from page {page_num}\")\n",
    "\n",
    "all_header_df = pd.DataFrame({'review_title': all_header})"
   ]
  },
  {
   "cell_type": "code",
   "execution_count": 6,
   "id": "b11c3eba-8adf-4681-9d55-7fb67b792b22",
   "metadata": {
    "execution": {
     "iopub.execute_input": "2024-09-03T20:18:17.793263Z",
     "iopub.status.busy": "2024-09-03T20:18:17.792263Z",
     "iopub.status.idle": "2024-09-03T20:24:52.683795Z",
     "shell.execute_reply": "2024-09-03T20:24:52.681790Z",
     "shell.execute_reply.started": "2024-09-03T20:18:17.793263Z"
    }
   },
   "outputs": [],
   "source": [
    "# reviews personal details\n",
    "reviewer_details = []\n",
    "\n",
    "for page_num in range(1, 386):\n",
    "    url = f'https://www.airlinequality.com/airline-reviews/british-airways/page/{page_num}/'\n",
    "    response = requests.get(url)\n",
    "    \n",
    "    if response.status_code == 200:  # Check if the request was successful\n",
    "        soup = BeautifulSoup(response.text, 'lxml')\n",
    "        details = soup.find_all('h3', class_='text_sub_header userStatusWrapper')\n",
    "        details_text = [detail.get_text(strip=True) for detail in details]\n",
    "        \n",
    "        reviewer_details.extend(details_text)\n",
    "    else:\n",
    "        print(f\"Failed to retrieve data from page {page_num}\")\n",
    "\n",
    "reviewer_details_df = pd.DataFrame({'reviewer_detail' : reviewer_details})"
   ]
  },
  {
   "cell_type": "code",
   "execution_count": 7,
   "id": "47aca1ef-0970-430f-a8d3-167de87dc3a9",
   "metadata": {
    "execution": {
     "iopub.execute_input": "2024-09-03T20:24:52.686800Z",
     "iopub.status.busy": "2024-09-03T20:24:52.685798Z",
     "iopub.status.idle": "2024-09-03T20:24:52.709771Z",
     "shell.execute_reply": "2024-09-03T20:24:52.707760Z",
     "shell.execute_reply.started": "2024-09-03T20:24:52.686800Z"
    }
   },
   "outputs": [
    {
     "data": {
      "text/plain": [
       "((3850, 1),\n",
       "                                                 reviews\n",
       " 3564  2 recent flights LHR to SFO (12 hrs) - 7th Sep...)"
      ]
     },
     "execution_count": 7,
     "metadata": {},
     "output_type": "execute_result"
    }
   ],
   "source": [
    "reviews_df.shape, reviews_df.sample()"
   ]
  },
  {
   "cell_type": "code",
   "execution_count": 8,
   "id": "4d9b1996-667b-4644-a8d1-7bc152cb893a",
   "metadata": {
    "execution": {
     "iopub.execute_input": "2024-09-03T20:24:52.715768Z",
     "iopub.status.busy": "2024-09-03T20:24:52.713772Z",
     "iopub.status.idle": "2024-09-03T20:24:52.756119Z",
     "shell.execute_reply": "2024-09-03T20:24:52.754109Z",
     "shell.execute_reply.started": "2024-09-03T20:24:52.714769Z"
    }
   },
   "outputs": [
    {
     "data": {
      "text/plain": [
       "((3850, 15),\n",
       "       Food & Beverages  Inflight Entertainment  Seat Comfort  Staff Service  \\\n",
       " 2205               1.0                     1.0           1.0            NaN   \n",
       " \n",
       "       Value for Money Type Of Traveller       Seat Type       Route  \\\n",
       " 2205              NaN      Solo Leisure  Business Class  JFK to LHR   \n",
       " \n",
       "         Date Flown  Cabin Staff Service  Ground Service  Wifi & Connectivity  \\\n",
       " 2205  October 2016                  3.0             1.0                  NaN   \n",
       " \n",
       "       Value For Money Recommended Aircraft  \n",
       " 2205              1.0          no      NaN  )"
      ]
     },
     "execution_count": 8,
     "metadata": {},
     "output_type": "execute_result"
    }
   ],
   "source": [
    "table_df.shape, table_df.sample()"
   ]
  },
  {
   "cell_type": "code",
   "execution_count": 9,
   "id": "376b8772-85c2-41a1-9033-b433484562b5",
   "metadata": {
    "execution": {
     "iopub.execute_input": "2024-09-03T20:24:52.763121Z",
     "iopub.status.busy": "2024-09-03T20:24:52.763121Z",
     "iopub.status.idle": "2024-09-03T20:24:52.816359Z",
     "shell.execute_reply": "2024-09-03T20:24:52.814350Z",
     "shell.execute_reply.started": "2024-09-03T20:24:52.763121Z"
    }
   },
   "outputs": [
    {
     "data": {
      "text/html": [
       "<div>\n",
       "<style scoped>\n",
       "    .dataframe tbody tr th:only-of-type {\n",
       "        vertical-align: middle;\n",
       "    }\n",
       "\n",
       "    .dataframe tbody tr th {\n",
       "        vertical-align: top;\n",
       "    }\n",
       "\n",
       "    .dataframe thead th {\n",
       "        text-align: right;\n",
       "    }\n",
       "</style>\n",
       "<table border=\"1\" class=\"dataframe\">\n",
       "  <thead>\n",
       "    <tr style=\"text-align: right;\">\n",
       "      <th></th>\n",
       "      <th>reviewer_detail</th>\n",
       "    </tr>\n",
       "  </thead>\n",
       "  <tbody>\n",
       "    <tr>\n",
       "      <th>0</th>\n",
       "      <td>Amanda Edgar(United Kingdom)2nd September 2024</td>\n",
       "    </tr>\n",
       "    <tr>\n",
       "      <th>1</th>\n",
       "      <td>S Morton(United Kingdom)1st September 2024</td>\n",
       "    </tr>\n",
       "    <tr>\n",
       "      <th>2</th>\n",
       "      <td>E Smyth(United Kingdom)30th August 2024</td>\n",
       "    </tr>\n",
       "    <tr>\n",
       "      <th>3</th>\n",
       "      <td>Lauren Boniface(United Kingdom)28th August 2024</td>\n",
       "    </tr>\n",
       "    <tr>\n",
       "      <th>4</th>\n",
       "      <td>Il Yong Jung(Hong Kong)28th August 2024</td>\n",
       "    </tr>\n",
       "    <tr>\n",
       "      <th>...</th>\n",
       "      <td>...</td>\n",
       "    </tr>\n",
       "    <tr>\n",
       "      <th>3845</th>\n",
       "      <td>W Benson(United Kingdom)29th August 2012</td>\n",
       "    </tr>\n",
       "    <tr>\n",
       "      <th>3846</th>\n",
       "      <td>S Luqman(United Kingdom)29th August 2012</td>\n",
       "    </tr>\n",
       "    <tr>\n",
       "      <th>3847</th>\n",
       "      <td>D Smith(United Kingdom)29th August 2012</td>\n",
       "    </tr>\n",
       "    <tr>\n",
       "      <th>3848</th>\n",
       "      <td>W Benson(United Kingdom)29th August 2012</td>\n",
       "    </tr>\n",
       "    <tr>\n",
       "      <th>3849</th>\n",
       "      <td>Michael Dielissen(Canada)29th August 2012</td>\n",
       "    </tr>\n",
       "  </tbody>\n",
       "</table>\n",
       "<p>3850 rows × 1 columns</p>\n",
       "</div>"
      ],
      "text/plain": [
       "                                      reviewer_detail\n",
       "0      Amanda Edgar(United Kingdom)2nd September 2024\n",
       "1          S Morton(United Kingdom)1st September 2024\n",
       "2             E Smyth(United Kingdom)30th August 2024\n",
       "3     Lauren Boniface(United Kingdom)28th August 2024\n",
       "4             Il Yong Jung(Hong Kong)28th August 2024\n",
       "...                                               ...\n",
       "3845         W Benson(United Kingdom)29th August 2012\n",
       "3846         S Luqman(United Kingdom)29th August 2012\n",
       "3847          D Smith(United Kingdom)29th August 2012\n",
       "3848         W Benson(United Kingdom)29th August 2012\n",
       "3849        Michael Dielissen(Canada)29th August 2012\n",
       "\n",
       "[3850 rows x 1 columns]"
      ]
     },
     "execution_count": 9,
     "metadata": {},
     "output_type": "execute_result"
    }
   ],
   "source": [
    "reviewer_details_df"
   ]
  },
  {
   "cell_type": "code",
   "execution_count": 10,
   "id": "54e6434c-115a-484b-8382-407cd54963b3",
   "metadata": {
    "execution": {
     "iopub.execute_input": "2024-09-03T20:24:52.820362Z",
     "iopub.status.busy": "2024-09-03T20:24:52.818359Z",
     "iopub.status.idle": "2024-09-03T20:24:52.847229Z",
     "shell.execute_reply": "2024-09-03T20:24:52.842218Z",
     "shell.execute_reply.started": "2024-09-03T20:24:52.820362Z"
    }
   },
   "outputs": [
    {
     "data": {
      "text/plain": [
       "((3850, 1),\n",
       "                             reviewer_detail\n",
       " 134  T Maddern(Australia)21st December 2023)"
      ]
     },
     "execution_count": 10,
     "metadata": {},
     "output_type": "execute_result"
    }
   ],
   "source": [
    "reviewer_details_df.shape, reviewer_details_df.sample()"
   ]
  },
  {
   "cell_type": "code",
   "execution_count": 11,
   "id": "efa320be-1a00-4c87-bdbf-cb2c3b079b7d",
   "metadata": {
    "execution": {
     "iopub.execute_input": "2024-09-03T20:24:52.851233Z",
     "iopub.status.busy": "2024-09-03T20:24:52.850231Z",
     "iopub.status.idle": "2024-09-03T20:24:53.169078Z",
     "shell.execute_reply": "2024-09-03T20:24:53.167071Z",
     "shell.execute_reply.started": "2024-09-03T20:24:52.851233Z"
    }
   },
   "outputs": [],
   "source": [
    "BA_Final_Data = pd.concat([reviewer_details_df, reviews_df, table_df], axis = 1)\n",
    "BA_Final_Data.to_csv('BA-Final-Data-Skytrax.csv')"
   ]
  },
  {
   "cell_type": "code",
   "execution_count": 14,
   "id": "9f2e6977-c5a3-4ae9-bf90-cee75cf7fabe",
   "metadata": {
    "execution": {
     "iopub.execute_input": "2024-09-03T20:29:16.990448Z",
     "iopub.status.busy": "2024-09-03T20:29:16.989449Z",
     "iopub.status.idle": "2024-09-03T20:29:17.018104Z",
     "shell.execute_reply": "2024-09-03T20:29:17.017091Z",
     "shell.execute_reply.started": "2024-09-03T20:29:16.990448Z"
    }
   },
   "outputs": [
    {
     "name": "stdout",
     "output_type": "stream",
     "text": [
      "<class 'pandas.core.frame.DataFrame'>\n",
      "RangeIndex: 3850 entries, 0 to 3849\n",
      "Data columns (total 17 columns):\n",
      " #   Column                  Non-Null Count  Dtype  \n",
      "---  ------                  --------------  -----  \n",
      " 0   reviewer_detail         3850 non-null   object \n",
      " 1   reviews                 3850 non-null   object \n",
      " 2   Food & Beverages        3428 non-null   float64\n",
      " 3   Inflight Entertainment  2637 non-null   float64\n",
      " 4   Seat Comfort            3727 non-null   float64\n",
      " 5   Staff Service           0 non-null      float64\n",
      " 6   Value for Money         0 non-null      float64\n",
      " 7   Type Of Traveller       3084 non-null   object \n",
      " 8   Seat Type               3849 non-null   object \n",
      " 9   Route                   3079 non-null   object \n",
      " 10  Date Flown              3077 non-null   object \n",
      " 11  Cabin Staff Service     3713 non-null   float64\n",
      " 12  Ground Service          3005 non-null   float64\n",
      " 13  Wifi & Connectivity     668 non-null    float64\n",
      " 14  Value For Money         3850 non-null   float64\n",
      " 15  Recommended             3850 non-null   object \n",
      " 16  Aircraft                2008 non-null   object \n",
      "dtypes: float64(9), object(8)\n",
      "memory usage: 511.5+ KB\n"
     ]
    }
   ],
   "source": [
    "BA_Final_Data.info()"
   ]
  },
  {
   "cell_type": "code",
   "execution_count": null,
   "id": "64a60ab9-90be-47ec-8097-d08d523f5c68",
   "metadata": {},
   "outputs": [],
   "source": []
  }
 ],
 "metadata": {
  "kernelspec": {
   "display_name": "Python 3 (ipykernel)",
   "language": "python",
   "name": "python3"
  },
  "language_info": {
   "codemirror_mode": {
    "name": "ipython",
    "version": 3
   },
   "file_extension": ".py",
   "mimetype": "text/x-python",
   "name": "python",
   "nbconvert_exporter": "python",
   "pygments_lexer": "ipython3",
   "version": "3.12.5"
  }
 },
 "nbformat": 4,
 "nbformat_minor": 5
}
